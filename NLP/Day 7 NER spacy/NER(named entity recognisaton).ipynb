{
 "cells": [
  {
   "cell_type": "code",
   "execution_count": 51,
   "id": "b83ede34-deaf-479e-8064-75c8a795dcab",
   "metadata": {},
   "outputs": [],
   "source": [
    "import spacy"
   ]
  },
  {
   "cell_type": "code",
   "execution_count": 52,
   "id": "5fa615ed-05a7-4480-a2dd-cfdc64080176",
   "metadata": {},
   "outputs": [],
   "source": [
    "mynlp=spacy.load('en_core_web_sm')"
   ]
  },
  {
   "cell_type": "code",
   "execution_count": 53,
   "id": "51fd9dd1-0d90-49bb-bc59-530e5af15423",
   "metadata": {},
   "outputs": [
    {
     "data": {
      "text/plain": [
       "<spacy.lang.en.English at 0x24b1dec7890>"
      ]
     },
     "execution_count": 53,
     "metadata": {},
     "output_type": "execute_result"
    }
   ],
   "source": [
    "mynlp"
   ]
  },
  {
   "cell_type": "code",
   "execution_count": 54,
   "id": "1b5a0206-201b-48f9-a56f-e878cc91af87",
   "metadata": {},
   "outputs": [],
   "source": [
    "doc1=\"hello i am going to singapore, next october to part of some technological events\""
   ]
  },
  {
   "cell_type": "code",
   "execution_count": 55,
   "id": "61c3b31f-415a-463a-9359-adee2900cf12",
   "metadata": {},
   "outputs": [],
   "source": [
    "doc1token=mynlp(doc1)"
   ]
  },
  {
   "cell_type": "code",
   "execution_count": 56,
   "id": "e19b2e73-276f-4224-bef8-90b47e3b1921",
   "metadata": {},
   "outputs": [
    {
     "data": {
      "text/plain": [
       "spacy.tokens.doc.Doc"
      ]
     },
     "execution_count": 56,
     "metadata": {},
     "output_type": "execute_result"
    }
   ],
   "source": [
    "type(doc1token)"
   ]
  },
  {
   "cell_type": "code",
   "execution_count": 57,
   "id": "7e68a6fa-5363-4814-9a25-ce325ac6ed23",
   "metadata": {},
   "outputs": [
    {
     "data": {
      "text/plain": [
       "hello i am going to singapore, next october to part of some technological events"
      ]
     },
     "execution_count": 57,
     "metadata": {},
     "output_type": "execute_result"
    }
   ],
   "source": [
    "doc1token"
   ]
  },
  {
   "cell_type": "code",
   "execution_count": 58,
   "id": "f30af2fa-ce85-4350-a51b-c10e220b7cf0",
   "metadata": {},
   "outputs": [
    {
     "data": {
      "text/plain": [
       "(singapore, next october)"
      ]
     },
     "execution_count": 58,
     "metadata": {},
     "output_type": "execute_result"
    }
   ],
   "source": [
    "doc1token.ents"
   ]
  },
  {
   "cell_type": "code",
   "execution_count": 59,
   "id": "1976657a-6c9f-4676-af31-4c4f73de2441",
   "metadata": {},
   "outputs": [
    {
     "ename": "NameError",
     "evalue": "name 'd' is not defined",
     "output_type": "error",
     "traceback": [
      "\u001b[1;31m---------------------------------------------------------------------------\u001b[0m",
      "\u001b[1;31mNameError\u001b[0m                                 Traceback (most recent call last)",
      "Cell \u001b[1;32mIn[59], line 1\u001b[0m\n\u001b[1;32m----> 1\u001b[0m d\n",
      "\u001b[1;31mNameError\u001b[0m: name 'd' is not defined"
     ]
    }
   ],
   "source": []
  },
  {
   "cell_type": "code",
   "execution_count": null,
   "id": "068504ea-a19c-44c4-a63c-41bfc64595bc",
   "metadata": {},
   "outputs": [],
   "source": []
  },
  {
   "cell_type": "code",
   "execution_count": null,
   "id": "4fa78d96-f610-4308-ae98-b796b490d010",
   "metadata": {},
   "outputs": [],
   "source": []
  },
  {
   "cell_type": "code",
   "execution_count": 60,
   "id": "f91c69e2-9764-4e5d-8ae7-515b8f13fc7d",
   "metadata": {},
   "outputs": [
    {
     "data": {
      "text/plain": [
       "'NNP'"
      ]
     },
     "execution_count": 60,
     "metadata": {},
     "output_type": "execute_result"
    }
   ],
   "source": [
    "doc1token[5].tag_"
   ]
  },
  {
   "cell_type": "code",
   "execution_count": 61,
   "id": "601432bd-0380-4e70-83a7-50e5909d25bb",
   "metadata": {},
   "outputs": [
    {
     "data": {
      "text/plain": [
       "'noun, proper singular'"
      ]
     },
     "execution_count": 61,
     "metadata": {},
     "output_type": "execute_result"
    }
   ],
   "source": [
    "spacy.explain('NNP')"
   ]
  },
  {
   "cell_type": "code",
   "execution_count": 62,
   "id": "a1cde274-5d0c-47a3-9a41-35aaa6b91f95",
   "metadata": {},
   "outputs": [],
   "source": [
    "all_ents=doc1token.ents"
   ]
  },
  {
   "cell_type": "code",
   "execution_count": 63,
   "id": "787d2110-2815-459a-a690-64298ecf60ae",
   "metadata": {},
   "outputs": [
    {
     "data": {
      "text/plain": [
       "'GPE'"
      ]
     },
     "execution_count": 63,
     "metadata": {},
     "output_type": "execute_result"
    }
   ],
   "source": [
    "all_ents[0].label_"
   ]
  },
  {
   "cell_type": "code",
   "execution_count": 64,
   "id": "8ab01e26-6fef-41ea-80a3-8d479549b252",
   "metadata": {},
   "outputs": [
    {
     "data": {
      "text/plain": [
       "'Countries, cities, states'"
      ]
     },
     "execution_count": 64,
     "metadata": {},
     "output_type": "execute_result"
    }
   ],
   "source": [
    "spacy.explain(\"GPE\")"
   ]
  },
  {
   "cell_type": "code",
   "execution_count": 65,
   "id": "a44eaf6e-d34f-482a-9078-eaf35bb9effd",
   "metadata": {},
   "outputs": [
    {
     "data": {
      "text/plain": [
       "'next october'"
      ]
     },
     "execution_count": 65,
     "metadata": {},
     "output_type": "execute_result"
    }
   ],
   "source": [
    "all_ents[1].text"
   ]
  },
  {
   "cell_type": "code",
   "execution_count": 66,
   "id": "1766cb46-cabc-45f8-8c80-dbd5190db2cb",
   "metadata": {},
   "outputs": [
    {
     "name": "stdout",
     "output_type": "stream",
     "text": [
      "singapore\n",
      "next october\n",
      "next october\n"
     ]
    }
   ],
   "source": [
    "for i in all_ents:\n",
    "    print(i)\n",
    "    if i.label_==\"DATE\":\n",
    "        print(i.text)"
   ]
  },
  {
   "cell_type": "code",
   "execution_count": 93,
   "id": "6a151b1f-836e-4483-b2ae-96a978222f8b",
   "metadata": {},
   "outputs": [],
   "source": [
    "doc2=\"can i please  get 300 dollars from you to buy an Apple Iphone?\""
   ]
  },
  {
   "cell_type": "code",
   "execution_count": 94,
   "id": "fc18213f-6ef0-48ac-b005-bb06c039f329",
   "metadata": {},
   "outputs": [],
   "source": [
    "doc2_token=mynlp(doc2)"
   ]
  },
  {
   "cell_type": "code",
   "execution_count": 95,
   "id": "111c02b7-5719-4708-a10b-ea6c0f91760c",
   "metadata": {},
   "outputs": [
    {
     "data": {
      "text/plain": [
       "(300 dollars, Apple Iphone)"
      ]
     },
     "execution_count": 95,
     "metadata": {},
     "output_type": "execute_result"
    }
   ],
   "source": [
    "doc2_token.ents"
   ]
  },
  {
   "cell_type": "code",
   "execution_count": 71,
   "id": "3c67813c-26c0-4a25-97c9-2323d8f7165c",
   "metadata": {},
   "outputs": [
    {
     "data": {
      "text/plain": [
       "5"
      ]
     },
     "execution_count": 71,
     "metadata": {},
     "output_type": "execute_result"
    }
   ],
   "source": [
    "doc2_token.ents[0].start"
   ]
  },
  {
   "cell_type": "code",
   "execution_count": 72,
   "id": "85255227-1e78-4db1-8979-5d27ca61cd7c",
   "metadata": {},
   "outputs": [
    {
     "data": {
      "text/plain": [
       "7"
      ]
     },
     "execution_count": 72,
     "metadata": {},
     "output_type": "execute_result"
    }
   ],
   "source": [
    "doc2_token.ents[0].end"
   ]
  },
  {
   "cell_type": "code",
   "execution_count": 73,
   "id": "ce4bff66-a183-4bb4-89a1-42370822779a",
   "metadata": {},
   "outputs": [
    {
     "data": {
      "text/plain": [
       "300 dollars"
      ]
     },
     "execution_count": 73,
     "metadata": {},
     "output_type": "execute_result"
    }
   ],
   "source": [
    "doc2_token[5:7]"
   ]
  },
  {
   "cell_type": "code",
   "execution_count": 74,
   "id": "dfc794c3-89f6-4884-9352-9fe337d25204",
   "metadata": {},
   "outputs": [
    {
     "data": {
      "text/plain": [
       "18"
      ]
     },
     "execution_count": 74,
     "metadata": {},
     "output_type": "execute_result"
    }
   ],
   "source": [
    "doc2_token.ents[0].start_char"
   ]
  },
  {
   "cell_type": "code",
   "execution_count": 75,
   "id": "5095a02f-2581-4abd-b4fc-42524286f9fc",
   "metadata": {},
   "outputs": [
    {
     "data": {
      "text/plain": [
       "29"
      ]
     },
     "execution_count": 75,
     "metadata": {},
     "output_type": "execute_result"
    }
   ],
   "source": [
    "doc2_token.ents[0].end_char"
   ]
  },
  {
   "cell_type": "code",
   "execution_count": 76,
   "id": "51b21bc9-06b0-4dd3-8cc7-f18d95c52d17",
   "metadata": {},
   "outputs": [
    {
     "data": {
      "text/plain": [
       "'300 dollars'"
      ]
     },
     "execution_count": 76,
     "metadata": {},
     "output_type": "execute_result"
    }
   ],
   "source": [
    "doc2[18:29]"
   ]
  },
  {
   "cell_type": "code",
   "execution_count": 77,
   "id": "625dfee0-b9dd-4004-aba6-1c0ba9f8640a",
   "metadata": {},
   "outputs": [
    {
     "data": {
      "text/plain": [
       "'MONEY'"
      ]
     },
     "execution_count": 77,
     "metadata": {},
     "output_type": "execute_result"
    }
   ],
   "source": [
    "doc2_token.ents[0].label_"
   ]
  },
  {
   "cell_type": "code",
   "execution_count": 92,
   "id": "46de2aff-3586-4316-88cf-836db1feab19",
   "metadata": {},
   "outputs": [
    {
     "data": {
      "text/plain": [
       "Apply"
      ]
     },
     "execution_count": 92,
     "metadata": {},
     "output_type": "execute_result"
    }
   ],
   "source": [
    "doc2_token[12]"
   ]
  },
  {
   "cell_type": "code",
   "execution_count": 80,
   "id": "b015a209-8742-4acd-8144-d8dd6a571bcd",
   "metadata": {},
   "outputs": [],
   "source": [
    "\n",
    "from spacy.tokens import Span"
   ]
  },
  {
   "cell_type": "code",
   "execution_count": 84,
   "id": "40a7039c-fbcd-4ea7-913f-802731a689f8",
   "metadata": {},
   "outputs": [
    {
     "data": {
      "text/plain": [
       "394"
      ]
     },
     "execution_count": 84,
     "metadata": {},
     "output_type": "execute_result"
    }
   ],
   "source": [
    "doc2_token.vocab.strings[\"MONEY\"]"
   ]
  },
  {
   "cell_type": "code",
   "execution_count": 90,
   "id": "fd550423-0172-48ce-bda6-c61b579e1cdd",
   "metadata": {},
   "outputs": [
    {
     "data": {
      "text/plain": [
       "383"
      ]
     },
     "execution_count": 90,
     "metadata": {},
     "output_type": "execute_result"
    }
   ],
   "source": [
    "doc2_token.vocab.strings[\"ORG\"]"
   ]
  },
  {
   "cell_type": "code",
   "execution_count": 103,
   "id": "c132f514-e706-4ed8-be2c-906b2a0e320d",
   "metadata": {},
   "outputs": [],
   "source": [
    "doc3=\"NischalT is building new linux operating system for $7 million money\""
   ]
  },
  {
   "cell_type": "code",
   "execution_count": 104,
   "id": "439daf9f-2471-4158-aa1e-445fc0ec39f6",
   "metadata": {},
   "outputs": [],
   "source": [
    "doc3_token=mynlp(doc3)"
   ]
  },
  {
   "cell_type": "code",
   "execution_count": 105,
   "id": "a6a1e669-2dad-4310-9733-56ede00dcfe7",
   "metadata": {},
   "outputs": [
    {
     "data": {
      "text/plain": [
       "NischalT is building new linux operating system for $7 million money"
      ]
     },
     "execution_count": 105,
     "metadata": {},
     "output_type": "execute_result"
    }
   ],
   "source": [
    "doc3_token"
   ]
  },
  {
   "cell_type": "code",
   "execution_count": 107,
   "id": "ac5a1712-ebe4-48a5-b0e6-60c1a7c3961c",
   "metadata": {},
   "outputs": [
    {
     "data": {
      "text/plain": [
       "($7 million,)"
      ]
     },
     "execution_count": 107,
     "metadata": {},
     "output_type": "execute_result"
    }
   ],
   "source": [
    "doc3_token.ents"
   ]
  },
  {
   "cell_type": "code",
   "execution_count": 108,
   "id": "1adbbf8a-2c0c-4207-8453-da7ff73b1057",
   "metadata": {},
   "outputs": [],
   "source": [
    "all_ents3=doc3_token.ents"
   ]
  },
  {
   "cell_type": "code",
   "execution_count": 109,
   "id": "2075cef8-add9-4d36-8dc6-8a5c58309c63",
   "metadata": {},
   "outputs": [
    {
     "data": {
      "text/plain": [
       "'MONEY'"
      ]
     },
     "execution_count": 109,
     "metadata": {},
     "output_type": "execute_result"
    }
   ],
   "source": [
    "all_ents3[0].label_"
   ]
  },
  {
   "cell_type": "code",
   "execution_count": 111,
   "id": "fcf849c4-8f98-4888-a954-68885bf18072",
   "metadata": {},
   "outputs": [],
   "source": [
    "new_ent=Span(doc3_token,0,1, label=\"ORG\")"
   ]
  },
  {
   "cell_type": "code",
   "execution_count": 112,
   "id": "643edbe3-16ae-48c1-8e6a-bd8fd47df412",
   "metadata": {},
   "outputs": [
    {
     "data": {
      "text/plain": [
       "'ORG'"
      ]
     },
     "execution_count": 112,
     "metadata": {},
     "output_type": "execute_result"
    }
   ],
   "source": [
    "new_ent.label_"
   ]
  },
  {
   "cell_type": "code",
   "execution_count": 124,
   "id": "bacc8492-1f3e-4744-a18c-e0da72843427",
   "metadata": {},
   "outputs": [],
   "source": [
    "doc3_token.ents=list(doc3_token.ents)+[new_ent]"
   ]
  },
  {
   "cell_type": "code",
   "execution_count": 117,
   "id": "075917aa-dfb1-4496-a9a6-1eda40bcdc11",
   "metadata": {},
   "outputs": [],
   "source": [
    "from spacy import displacy"
   ]
  },
  {
   "cell_type": "code",
   "execution_count": 118,
   "id": "82af1b28-21b6-472d-a2f6-d09ee192c54d",
   "metadata": {},
   "outputs": [
    {
     "data": {
      "text/html": [
       "<span class=\"tex2jax_ignore\"><svg xmlns=\"http://www.w3.org/2000/svg\" xmlns:xlink=\"http://www.w3.org/1999/xlink\" xml:lang=\"en\" id=\"2a01d23252aa40bf836f5f74f16de06a-0\" class=\"displacy\" width=\"2150\" height=\"574.5\" direction=\"ltr\" style=\"max-width: none; height: 574.5px; color: #000000; background: #ffffff; font-family: Arial; direction: ltr\">\n",
       "<text class=\"displacy-token\" fill=\"currentColor\" text-anchor=\"middle\" y=\"484.5\">\n",
       "    <tspan class=\"displacy-word\" fill=\"currentColor\" x=\"50\">NischalT</tspan>\n",
       "    <tspan class=\"displacy-tag\" dy=\"2em\" fill=\"currentColor\" x=\"50\">NOUN</tspan>\n",
       "</text>\n",
       "\n",
       "<text class=\"displacy-token\" fill=\"currentColor\" text-anchor=\"middle\" y=\"484.5\">\n",
       "    <tspan class=\"displacy-word\" fill=\"currentColor\" x=\"225\">is</tspan>\n",
       "    <tspan class=\"displacy-tag\" dy=\"2em\" fill=\"currentColor\" x=\"225\">AUX</tspan>\n",
       "</text>\n",
       "\n",
       "<text class=\"displacy-token\" fill=\"currentColor\" text-anchor=\"middle\" y=\"484.5\">\n",
       "    <tspan class=\"displacy-word\" fill=\"currentColor\" x=\"400\">building</tspan>\n",
       "    <tspan class=\"displacy-tag\" dy=\"2em\" fill=\"currentColor\" x=\"400\">VERB</tspan>\n",
       "</text>\n",
       "\n",
       "<text class=\"displacy-token\" fill=\"currentColor\" text-anchor=\"middle\" y=\"484.5\">\n",
       "    <tspan class=\"displacy-word\" fill=\"currentColor\" x=\"575\">new</tspan>\n",
       "    <tspan class=\"displacy-tag\" dy=\"2em\" fill=\"currentColor\" x=\"575\">ADJ</tspan>\n",
       "</text>\n",
       "\n",
       "<text class=\"displacy-token\" fill=\"currentColor\" text-anchor=\"middle\" y=\"484.5\">\n",
       "    <tspan class=\"displacy-word\" fill=\"currentColor\" x=\"750\">linux</tspan>\n",
       "    <tspan class=\"displacy-tag\" dy=\"2em\" fill=\"currentColor\" x=\"750\">NOUN</tspan>\n",
       "</text>\n",
       "\n",
       "<text class=\"displacy-token\" fill=\"currentColor\" text-anchor=\"middle\" y=\"484.5\">\n",
       "    <tspan class=\"displacy-word\" fill=\"currentColor\" x=\"925\">operating</tspan>\n",
       "    <tspan class=\"displacy-tag\" dy=\"2em\" fill=\"currentColor\" x=\"925\">NOUN</tspan>\n",
       "</text>\n",
       "\n",
       "<text class=\"displacy-token\" fill=\"currentColor\" text-anchor=\"middle\" y=\"484.5\">\n",
       "    <tspan class=\"displacy-word\" fill=\"currentColor\" x=\"1100\">system</tspan>\n",
       "    <tspan class=\"displacy-tag\" dy=\"2em\" fill=\"currentColor\" x=\"1100\">NOUN</tspan>\n",
       "</text>\n",
       "\n",
       "<text class=\"displacy-token\" fill=\"currentColor\" text-anchor=\"middle\" y=\"484.5\">\n",
       "    <tspan class=\"displacy-word\" fill=\"currentColor\" x=\"1275\">for</tspan>\n",
       "    <tspan class=\"displacy-tag\" dy=\"2em\" fill=\"currentColor\" x=\"1275\">ADP</tspan>\n",
       "</text>\n",
       "\n",
       "<text class=\"displacy-token\" fill=\"currentColor\" text-anchor=\"middle\" y=\"484.5\">\n",
       "    <tspan class=\"displacy-word\" fill=\"currentColor\" x=\"1450\">$</tspan>\n",
       "    <tspan class=\"displacy-tag\" dy=\"2em\" fill=\"currentColor\" x=\"1450\">SYM</tspan>\n",
       "</text>\n",
       "\n",
       "<text class=\"displacy-token\" fill=\"currentColor\" text-anchor=\"middle\" y=\"484.5\">\n",
       "    <tspan class=\"displacy-word\" fill=\"currentColor\" x=\"1625\">7</tspan>\n",
       "    <tspan class=\"displacy-tag\" dy=\"2em\" fill=\"currentColor\" x=\"1625\">NUM</tspan>\n",
       "</text>\n",
       "\n",
       "<text class=\"displacy-token\" fill=\"currentColor\" text-anchor=\"middle\" y=\"484.5\">\n",
       "    <tspan class=\"displacy-word\" fill=\"currentColor\" x=\"1800\">million</tspan>\n",
       "    <tspan class=\"displacy-tag\" dy=\"2em\" fill=\"currentColor\" x=\"1800\">NUM</tspan>\n",
       "</text>\n",
       "\n",
       "<text class=\"displacy-token\" fill=\"currentColor\" text-anchor=\"middle\" y=\"484.5\">\n",
       "    <tspan class=\"displacy-word\" fill=\"currentColor\" x=\"1975\">money</tspan>\n",
       "    <tspan class=\"displacy-tag\" dy=\"2em\" fill=\"currentColor\" x=\"1975\">NOUN</tspan>\n",
       "</text>\n",
       "\n",
       "<g class=\"displacy-arrow\">\n",
       "    <path class=\"displacy-arc\" id=\"arrow-2a01d23252aa40bf836f5f74f16de06a-0-0\" stroke-width=\"2px\" d=\"M70,439.5 C70,264.5 385.0,264.5 385.0,439.5\" fill=\"none\" stroke=\"currentColor\"/>\n",
       "    <text dy=\"1.25em\" style=\"font-size: 0.8em; letter-spacing: 1px\">\n",
       "        <textPath xlink:href=\"#arrow-2a01d23252aa40bf836f5f74f16de06a-0-0\" class=\"displacy-label\" startOffset=\"50%\" side=\"left\" fill=\"currentColor\" text-anchor=\"middle\">nsubj</textPath>\n",
       "    </text>\n",
       "    <path class=\"displacy-arrowhead\" d=\"M70,441.5 L62,429.5 78,429.5\" fill=\"currentColor\"/>\n",
       "</g>\n",
       "\n",
       "<g class=\"displacy-arrow\">\n",
       "    <path class=\"displacy-arc\" id=\"arrow-2a01d23252aa40bf836f5f74f16de06a-0-1\" stroke-width=\"2px\" d=\"M245,439.5 C245,352.0 380.0,352.0 380.0,439.5\" fill=\"none\" stroke=\"currentColor\"/>\n",
       "    <text dy=\"1.25em\" style=\"font-size: 0.8em; letter-spacing: 1px\">\n",
       "        <textPath xlink:href=\"#arrow-2a01d23252aa40bf836f5f74f16de06a-0-1\" class=\"displacy-label\" startOffset=\"50%\" side=\"left\" fill=\"currentColor\" text-anchor=\"middle\">aux</textPath>\n",
       "    </text>\n",
       "    <path class=\"displacy-arrowhead\" d=\"M245,441.5 L237,429.5 253,429.5\" fill=\"currentColor\"/>\n",
       "</g>\n",
       "\n",
       "<g class=\"displacy-arrow\">\n",
       "    <path class=\"displacy-arc\" id=\"arrow-2a01d23252aa40bf836f5f74f16de06a-0-2\" stroke-width=\"2px\" d=\"M595,439.5 C595,177.0 1090.0,177.0 1090.0,439.5\" fill=\"none\" stroke=\"currentColor\"/>\n",
       "    <text dy=\"1.25em\" style=\"font-size: 0.8em; letter-spacing: 1px\">\n",
       "        <textPath xlink:href=\"#arrow-2a01d23252aa40bf836f5f74f16de06a-0-2\" class=\"displacy-label\" startOffset=\"50%\" side=\"left\" fill=\"currentColor\" text-anchor=\"middle\">amod</textPath>\n",
       "    </text>\n",
       "    <path class=\"displacy-arrowhead\" d=\"M595,441.5 L587,429.5 603,429.5\" fill=\"currentColor\"/>\n",
       "</g>\n",
       "\n",
       "<g class=\"displacy-arrow\">\n",
       "    <path class=\"displacy-arc\" id=\"arrow-2a01d23252aa40bf836f5f74f16de06a-0-3\" stroke-width=\"2px\" d=\"M770,439.5 C770,264.5 1085.0,264.5 1085.0,439.5\" fill=\"none\" stroke=\"currentColor\"/>\n",
       "    <text dy=\"1.25em\" style=\"font-size: 0.8em; letter-spacing: 1px\">\n",
       "        <textPath xlink:href=\"#arrow-2a01d23252aa40bf836f5f74f16de06a-0-3\" class=\"displacy-label\" startOffset=\"50%\" side=\"left\" fill=\"currentColor\" text-anchor=\"middle\">compound</textPath>\n",
       "    </text>\n",
       "    <path class=\"displacy-arrowhead\" d=\"M770,441.5 L762,429.5 778,429.5\" fill=\"currentColor\"/>\n",
       "</g>\n",
       "\n",
       "<g class=\"displacy-arrow\">\n",
       "    <path class=\"displacy-arc\" id=\"arrow-2a01d23252aa40bf836f5f74f16de06a-0-4\" stroke-width=\"2px\" d=\"M945,439.5 C945,352.0 1080.0,352.0 1080.0,439.5\" fill=\"none\" stroke=\"currentColor\"/>\n",
       "    <text dy=\"1.25em\" style=\"font-size: 0.8em; letter-spacing: 1px\">\n",
       "        <textPath xlink:href=\"#arrow-2a01d23252aa40bf836f5f74f16de06a-0-4\" class=\"displacy-label\" startOffset=\"50%\" side=\"left\" fill=\"currentColor\" text-anchor=\"middle\">compound</textPath>\n",
       "    </text>\n",
       "    <path class=\"displacy-arrowhead\" d=\"M945,441.5 L937,429.5 953,429.5\" fill=\"currentColor\"/>\n",
       "</g>\n",
       "\n",
       "<g class=\"displacy-arrow\">\n",
       "    <path class=\"displacy-arc\" id=\"arrow-2a01d23252aa40bf836f5f74f16de06a-0-5\" stroke-width=\"2px\" d=\"M420,439.5 C420,89.5 1095.0,89.5 1095.0,439.5\" fill=\"none\" stroke=\"currentColor\"/>\n",
       "    <text dy=\"1.25em\" style=\"font-size: 0.8em; letter-spacing: 1px\">\n",
       "        <textPath xlink:href=\"#arrow-2a01d23252aa40bf836f5f74f16de06a-0-5\" class=\"displacy-label\" startOffset=\"50%\" side=\"left\" fill=\"currentColor\" text-anchor=\"middle\">dobj</textPath>\n",
       "    </text>\n",
       "    <path class=\"displacy-arrowhead\" d=\"M1095.0,441.5 L1103.0,429.5 1087.0,429.5\" fill=\"currentColor\"/>\n",
       "</g>\n",
       "\n",
       "<g class=\"displacy-arrow\">\n",
       "    <path class=\"displacy-arc\" id=\"arrow-2a01d23252aa40bf836f5f74f16de06a-0-6\" stroke-width=\"2px\" d=\"M420,439.5 C420,2.0 1275.0,2.0 1275.0,439.5\" fill=\"none\" stroke=\"currentColor\"/>\n",
       "    <text dy=\"1.25em\" style=\"font-size: 0.8em; letter-spacing: 1px\">\n",
       "        <textPath xlink:href=\"#arrow-2a01d23252aa40bf836f5f74f16de06a-0-6\" class=\"displacy-label\" startOffset=\"50%\" side=\"left\" fill=\"currentColor\" text-anchor=\"middle\">prep</textPath>\n",
       "    </text>\n",
       "    <path class=\"displacy-arrowhead\" d=\"M1275.0,441.5 L1283.0,429.5 1267.0,429.5\" fill=\"currentColor\"/>\n",
       "</g>\n",
       "\n",
       "<g class=\"displacy-arrow\">\n",
       "    <path class=\"displacy-arc\" id=\"arrow-2a01d23252aa40bf836f5f74f16de06a-0-7\" stroke-width=\"2px\" d=\"M1470,439.5 C1470,264.5 1785.0,264.5 1785.0,439.5\" fill=\"none\" stroke=\"currentColor\"/>\n",
       "    <text dy=\"1.25em\" style=\"font-size: 0.8em; letter-spacing: 1px\">\n",
       "        <textPath xlink:href=\"#arrow-2a01d23252aa40bf836f5f74f16de06a-0-7\" class=\"displacy-label\" startOffset=\"50%\" side=\"left\" fill=\"currentColor\" text-anchor=\"middle\">quantmod</textPath>\n",
       "    </text>\n",
       "    <path class=\"displacy-arrowhead\" d=\"M1470,441.5 L1462,429.5 1478,429.5\" fill=\"currentColor\"/>\n",
       "</g>\n",
       "\n",
       "<g class=\"displacy-arrow\">\n",
       "    <path class=\"displacy-arc\" id=\"arrow-2a01d23252aa40bf836f5f74f16de06a-0-8\" stroke-width=\"2px\" d=\"M1645,439.5 C1645,352.0 1780.0,352.0 1780.0,439.5\" fill=\"none\" stroke=\"currentColor\"/>\n",
       "    <text dy=\"1.25em\" style=\"font-size: 0.8em; letter-spacing: 1px\">\n",
       "        <textPath xlink:href=\"#arrow-2a01d23252aa40bf836f5f74f16de06a-0-8\" class=\"displacy-label\" startOffset=\"50%\" side=\"left\" fill=\"currentColor\" text-anchor=\"middle\">compound</textPath>\n",
       "    </text>\n",
       "    <path class=\"displacy-arrowhead\" d=\"M1645,441.5 L1637,429.5 1653,429.5\" fill=\"currentColor\"/>\n",
       "</g>\n",
       "\n",
       "<g class=\"displacy-arrow\">\n",
       "    <path class=\"displacy-arc\" id=\"arrow-2a01d23252aa40bf836f5f74f16de06a-0-9\" stroke-width=\"2px\" d=\"M1820,439.5 C1820,352.0 1955.0,352.0 1955.0,439.5\" fill=\"none\" stroke=\"currentColor\"/>\n",
       "    <text dy=\"1.25em\" style=\"font-size: 0.8em; letter-spacing: 1px\">\n",
       "        <textPath xlink:href=\"#arrow-2a01d23252aa40bf836f5f74f16de06a-0-9\" class=\"displacy-label\" startOffset=\"50%\" side=\"left\" fill=\"currentColor\" text-anchor=\"middle\">nummod</textPath>\n",
       "    </text>\n",
       "    <path class=\"displacy-arrowhead\" d=\"M1820,441.5 L1812,429.5 1828,429.5\" fill=\"currentColor\"/>\n",
       "</g>\n",
       "\n",
       "<g class=\"displacy-arrow\">\n",
       "    <path class=\"displacy-arc\" id=\"arrow-2a01d23252aa40bf836f5f74f16de06a-0-10\" stroke-width=\"2px\" d=\"M1295,439.5 C1295,177.0 1965.0,177.0 1965.0,439.5\" fill=\"none\" stroke=\"currentColor\"/>\n",
       "    <text dy=\"1.25em\" style=\"font-size: 0.8em; letter-spacing: 1px\">\n",
       "        <textPath xlink:href=\"#arrow-2a01d23252aa40bf836f5f74f16de06a-0-10\" class=\"displacy-label\" startOffset=\"50%\" side=\"left\" fill=\"currentColor\" text-anchor=\"middle\">pobj</textPath>\n",
       "    </text>\n",
       "    <path class=\"displacy-arrowhead\" d=\"M1965.0,441.5 L1973.0,429.5 1957.0,429.5\" fill=\"currentColor\"/>\n",
       "</g>\n",
       "</svg></span>"
      ],
      "text/plain": [
       "<IPython.core.display.HTML object>"
      ]
     },
     "metadata": {},
     "output_type": "display_data"
    }
   ],
   "source": [
    "displacy.render(doc3_token)"
   ]
  },
  {
   "cell_type": "code",
   "execution_count": 127,
   "id": "69542dea-7919-4abe-8379-409899a66fb0",
   "metadata": {},
   "outputs": [
    {
     "data": {
      "text/plain": [
       "(NischalT, $7 million)"
      ]
     },
     "execution_count": 127,
     "metadata": {},
     "output_type": "execute_result"
    }
   ],
   "source": [
    "doc3_token.ents"
   ]
  },
  {
   "cell_type": "code",
   "execution_count": 128,
   "id": "7cdb23b0-b05b-489c-92b2-bb02470352f9",
   "metadata": {},
   "outputs": [
    {
     "data": {
      "text/html": [
       "<span class=\"tex2jax_ignore\"><div class=\"entities\" style=\"line-height: 2.5; direction: ltr\">\n",
       "<mark class=\"entity\" style=\"background: #7aecec; padding: 0.45em 0.6em; margin: 0 0.25em; line-height: 1; border-radius: 0.35em;\">\n",
       "    NischalT\n",
       "    <span style=\"font-size: 0.8em; font-weight: bold; line-height: 1; border-radius: 0.35em; vertical-align: middle; margin-left: 0.5rem\">ORG</span>\n",
       "</mark>\n",
       " is building new linux operating system for \n",
       "<mark class=\"entity\" style=\"background: #e4e7d2; padding: 0.45em 0.6em; margin: 0 0.25em; line-height: 1; border-radius: 0.35em;\">\n",
       "    $7 million\n",
       "    <span style=\"font-size: 0.8em; font-weight: bold; line-height: 1; border-radius: 0.35em; vertical-align: middle; margin-left: 0.5rem\">MONEY</span>\n",
       "</mark>\n",
       " money</div></span>"
      ],
      "text/plain": [
       "<IPython.core.display.HTML object>"
      ]
     },
     "metadata": {},
     "output_type": "display_data"
    }
   ],
   "source": [
    "displacy.render(doc3_token, style= 'ent')"
   ]
  },
  {
   "cell_type": "code",
   "execution_count": 129,
   "id": "1f7cfc01-6c82-4fd0-91f2-7dd421b7278e",
   "metadata": {},
   "outputs": [],
   "source": [
    "colors={'ORG':'linear-gradient(90deg,#aa9cfc,#fc9ce7);', 'MONEY':'linear-gradient(90deg,red,yellow);'}"
   ]
  },
  {
   "cell_type": "code",
   "execution_count": 131,
   "id": "53811dee-d0d9-4b39-9cf0-691d4a105bff",
   "metadata": {},
   "outputs": [],
   "source": [
    "options = {\"ents\": [\"ORG\", \"MONEY\"], \"colors\": colors}"
   ]
  },
  {
   "cell_type": "code",
   "execution_count": 132,
   "id": "6b4dc6a5-61a5-4328-88b5-6b67a08421bf",
   "metadata": {},
   "outputs": [
    {
     "data": {
      "text/html": [
       "<span class=\"tex2jax_ignore\"><div class=\"entities\" style=\"line-height: 2.5; direction: ltr\">\n",
       "<mark class=\"entity\" style=\"background: linear-gradient(90deg,#aa9cfc,#fc9ce7);; padding: 0.45em 0.6em; margin: 0 0.25em; line-height: 1; border-radius: 0.35em;\">\n",
       "    NischalT\n",
       "    <span style=\"font-size: 0.8em; font-weight: bold; line-height: 1; border-radius: 0.35em; vertical-align: middle; margin-left: 0.5rem\">ORG</span>\n",
       "</mark>\n",
       " is building new linux operating system for \n",
       "<mark class=\"entity\" style=\"background: linear-gradient(90deg,red,yellow);; padding: 0.45em 0.6em; margin: 0 0.25em; line-height: 1; border-radius: 0.35em;\">\n",
       "    $7 million\n",
       "    <span style=\"font-size: 0.8em; font-weight: bold; line-height: 1; border-radius: 0.35em; vertical-align: middle; margin-left: 0.5rem\">MONEY</span>\n",
       "</mark>\n",
       " money</div></span>"
      ],
      "text/plain": [
       "<IPython.core.display.HTML object>"
      ]
     },
     "metadata": {},
     "output_type": "display_data"
    }
   ],
   "source": [
    "displacy.render(doc3_token, style= 'ent',options=options)"
   ]
  },
  {
   "cell_type": "code",
   "execution_count": null,
   "id": "4cbb401c-c443-4bff-b2e4-2bd34ce8a5db",
   "metadata": {},
   "outputs": [
    {
     "name": "stderr",
     "output_type": "stream",
     "text": [
      "D:\\Anaconda\\Lib\\site-packages\\spacy\\displacy\\__init__.py:106: UserWarning: [W011] It looks like you're calling displacy.serve from within a Jupyter notebook or a similar environment. This likely means you're already running a local web server, so there's no need to make displaCy start another one. Instead, you should be able to replace displacy.serve with displacy.render to show the visualization.\n",
      "  warnings.warn(Warnings.W011)\n"
     ]
    },
    {
     "data": {
      "text/html": [
       "<span class=\"tex2jax_ignore\"><!DOCTYPE html>\n",
       "<html lang=\"en\">\n",
       "    <head>\n",
       "        <title>displaCy</title>\n",
       "    </head>\n",
       "\n",
       "    <body style=\"font-size: 16px; font-family: -apple-system, BlinkMacSystemFont, 'Segoe UI', Helvetica, Arial, sans-serif, 'Apple Color Emoji', 'Segoe UI Emoji', 'Segoe UI Symbol'; padding: 4rem 2rem; direction: ltr\">\n",
       "<figure style=\"margin-bottom: 6rem\">\n",
       "<div class=\"entities\" style=\"line-height: 2.5; direction: ltr\">\n",
       "<mark class=\"entity\" style=\"background: linear-gradient(90deg,#aa9cfc,#fc9ce7);; padding: 0.45em 0.6em; margin: 0 0.25em; line-height: 1; border-radius: 0.35em;\">\n",
       "    NischalT\n",
       "    <span style=\"font-size: 0.8em; font-weight: bold; line-height: 1; border-radius: 0.35em; vertical-align: middle; margin-left: 0.5rem\">ORG</span>\n",
       "</mark>\n",
       " is building new linux operating system for \n",
       "<mark class=\"entity\" style=\"background: linear-gradient(90deg,red,yellow);; padding: 0.45em 0.6em; margin: 0 0.25em; line-height: 1; border-radius: 0.35em;\">\n",
       "    $7 million\n",
       "    <span style=\"font-size: 0.8em; font-weight: bold; line-height: 1; border-radius: 0.35em; vertical-align: middle; margin-left: 0.5rem\">MONEY</span>\n",
       "</mark>\n",
       " money</div>\n",
       "</figure>\n",
       "</body>\n",
       "</html></span>"
      ],
      "text/plain": [
       "<IPython.core.display.HTML object>"
      ]
     },
     "metadata": {},
     "output_type": "display_data"
    },
    {
     "name": "stdout",
     "output_type": "stream",
     "text": [
      "\n",
      "Using the 'ent' visualizer\n",
      "Serving on http://0.0.0.0:5000 ...\n",
      "\n"
     ]
    },
    {
     "name": "stderr",
     "output_type": "stream",
     "text": [
      "127.0.0.1 - - [23/Jun/2024 14:25:08] \"GET / HTTP/1.1\" 200 1157\n",
      "127.0.0.1 - - [23/Jun/2024 14:25:08] \"GET /favicon.ico HTTP/1.1\" 200 1157\n"
     ]
    }
   ],
   "source": [
    "displacy.serve(doc3_token, style='ent', options=options)"
   ]
  },
  {
   "cell_type": "code",
   "execution_count": 16,
   "id": "a0fbcb4d-1f0d-4f2a-8708-a8177ff8d9bc",
   "metadata": {},
   "outputs": [
    {
     "name": "stdout",
     "output_type": "stream",
     "text": [
      "Angela Merkel\n",
      "Barack Obama\n",
      "Washington, D.C.\n"
     ]
    }
   ],
   "source": [
    "import spacy\n",
    "from spacy.matcher import PhraseMatcher\n",
    "\n",
    "nlp = spacy.load(\"en_core_web_sm\")\n",
    "matcher = PhraseMatcher(nlp.vocab)\n",
    "terms = [\"Barack Obama\", \"Angela Merkel\", \"Washington, D.C.\"]\n",
    "# Only run nlp.make_doc to speed things up\n",
    "patterns = [nlp.make_doc(text) for text in terms]\n",
    "matcher.add(\"TerminologyList\", patterns)\n",
    "\n",
    "doc = nlp(\"German Chancellor Angela Merkel and US President Barack Obama \"\n",
    "          \"converse in the Oval Office inside the White House in Washington, D.C.\")\n",
    "matches = matcher(doc)\n",
    "for match_id, start, end in matches:\n",
    "    span = doc[start:end]\n",
    "    print(span.text)\n"
   ]
  },
  {
   "cell_type": "code",
   "execution_count": null,
   "id": "cf189a0e-eb17-48af-9f8e-0aaf0f9b3751",
   "metadata": {},
   "outputs": [],
   "source": []
  }
 ],
 "metadata": {
  "kernelspec": {
   "display_name": "Python 3 (ipykernel)",
   "language": "python",
   "name": "python3"
  },
  "language_info": {
   "codemirror_mode": {
    "name": "ipython",
    "version": 3
   },
   "file_extension": ".py",
   "mimetype": "text/x-python",
   "name": "python",
   "nbconvert_exporter": "python",
   "pygments_lexer": "ipython3",
   "version": "3.11.7"
  }
 },
 "nbformat": 4,
 "nbformat_minor": 5
}
