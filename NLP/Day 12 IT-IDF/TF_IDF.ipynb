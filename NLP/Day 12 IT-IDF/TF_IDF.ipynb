{
 "cells": [
  {
   "cell_type": "code",
   "execution_count": 37,
   "id": "4f18cb84-52ca-4ace-9d77-78a13301c1c0",
   "metadata": {},
   "outputs": [],
   "source": [
    "corpus=[\n",
    "    \"LW are awarded best innovative training provider by linkdin\",\n",
    "    \"best awarded search engine provider by are google\",\n",
    "    \"we are LW working for  are making india future ready by reseach\",\n",
    "    \"if we are want to search in indea go to google\"\n",
    "]"
   ]
  },
  {
   "cell_type": "code",
   "execution_count": 38,
   "id": "10a19f29-0284-4d81-ba65-56fe61503b5a",
   "metadata": {},
   "outputs": [
    {
     "name": "stdout",
     "output_type": "stream",
     "text": [
      "Note: you may need to restart the kernel to use updated packages.\n"
     ]
    },
    {
     "name": "stderr",
     "output_type": "stream",
     "text": [
      "WARNING: Package(s) not found: sklearn\n"
     ]
    }
   ],
   "source": [
    "pip show sklearn"
   ]
  },
  {
   "cell_type": "code",
   "execution_count": 39,
   "id": "6127b586-27f7-40fc-b786-e580f8c618cf",
   "metadata": {},
   "outputs": [],
   "source": [
    "from sklearn.feature_extraction.text import TfidfVectorizer"
   ]
  },
  {
   "cell_type": "code",
   "execution_count": 40,
   "id": "7911744e-7a2c-4039-8453-6789b7d89cfa",
   "metadata": {},
   "outputs": [],
   "source": [
    "mytextprocess=TfidfVectorizer()"
   ]
  },
  {
   "cell_type": "code",
   "execution_count": 41,
   "id": "d3f19e10-c9a0-4b2f-ac13-6d2d5ba85774",
   "metadata": {},
   "outputs": [
    {
     "data": {
      "text/html": [
       "<style>#sk-container-id-4 {color: black;background-color: white;}#sk-container-id-4 pre{padding: 0;}#sk-container-id-4 div.sk-toggleable {background-color: white;}#sk-container-id-4 label.sk-toggleable__label {cursor: pointer;display: block;width: 100%;margin-bottom: 0;padding: 0.3em;box-sizing: border-box;text-align: center;}#sk-container-id-4 label.sk-toggleable__label-arrow:before {content: \"▸\";float: left;margin-right: 0.25em;color: #696969;}#sk-container-id-4 label.sk-toggleable__label-arrow:hover:before {color: black;}#sk-container-id-4 div.sk-estimator:hover label.sk-toggleable__label-arrow:before {color: black;}#sk-container-id-4 div.sk-toggleable__content {max-height: 0;max-width: 0;overflow: hidden;text-align: left;background-color: #f0f8ff;}#sk-container-id-4 div.sk-toggleable__content pre {margin: 0.2em;color: black;border-radius: 0.25em;background-color: #f0f8ff;}#sk-container-id-4 input.sk-toggleable__control:checked~div.sk-toggleable__content {max-height: 200px;max-width: 100%;overflow: auto;}#sk-container-id-4 input.sk-toggleable__control:checked~label.sk-toggleable__label-arrow:before {content: \"▾\";}#sk-container-id-4 div.sk-estimator input.sk-toggleable__control:checked~label.sk-toggleable__label {background-color: #d4ebff;}#sk-container-id-4 div.sk-label input.sk-toggleable__control:checked~label.sk-toggleable__label {background-color: #d4ebff;}#sk-container-id-4 input.sk-hidden--visually {border: 0;clip: rect(1px 1px 1px 1px);clip: rect(1px, 1px, 1px, 1px);height: 1px;margin: -1px;overflow: hidden;padding: 0;position: absolute;width: 1px;}#sk-container-id-4 div.sk-estimator {font-family: monospace;background-color: #f0f8ff;border: 1px dotted black;border-radius: 0.25em;box-sizing: border-box;margin-bottom: 0.5em;}#sk-container-id-4 div.sk-estimator:hover {background-color: #d4ebff;}#sk-container-id-4 div.sk-parallel-item::after {content: \"\";width: 100%;border-bottom: 1px solid gray;flex-grow: 1;}#sk-container-id-4 div.sk-label:hover label.sk-toggleable__label {background-color: #d4ebff;}#sk-container-id-4 div.sk-serial::before {content: \"\";position: absolute;border-left: 1px solid gray;box-sizing: border-box;top: 0;bottom: 0;left: 50%;z-index: 0;}#sk-container-id-4 div.sk-serial {display: flex;flex-direction: column;align-items: center;background-color: white;padding-right: 0.2em;padding-left: 0.2em;position: relative;}#sk-container-id-4 div.sk-item {position: relative;z-index: 1;}#sk-container-id-4 div.sk-parallel {display: flex;align-items: stretch;justify-content: center;background-color: white;position: relative;}#sk-container-id-4 div.sk-item::before, #sk-container-id-4 div.sk-parallel-item::before {content: \"\";position: absolute;border-left: 1px solid gray;box-sizing: border-box;top: 0;bottom: 0;left: 50%;z-index: -1;}#sk-container-id-4 div.sk-parallel-item {display: flex;flex-direction: column;z-index: 1;position: relative;background-color: white;}#sk-container-id-4 div.sk-parallel-item:first-child::after {align-self: flex-end;width: 50%;}#sk-container-id-4 div.sk-parallel-item:last-child::after {align-self: flex-start;width: 50%;}#sk-container-id-4 div.sk-parallel-item:only-child::after {width: 0;}#sk-container-id-4 div.sk-dashed-wrapped {border: 1px dashed gray;margin: 0 0.4em 0.5em 0.4em;box-sizing: border-box;padding-bottom: 0.4em;background-color: white;}#sk-container-id-4 div.sk-label label {font-family: monospace;font-weight: bold;display: inline-block;line-height: 1.2em;}#sk-container-id-4 div.sk-label-container {text-align: center;}#sk-container-id-4 div.sk-container {/* jupyter's `normalize.less` sets `[hidden] { display: none; }` but bootstrap.min.css set `[hidden] { display: none !important; }` so we also need the `!important` here to be able to override the default hidden behavior on the sphinx rendered scikit-learn.org. See: https://github.com/scikit-learn/scikit-learn/issues/21755 */display: inline-block !important;position: relative;}#sk-container-id-4 div.sk-text-repr-fallback {display: none;}</style><div id=\"sk-container-id-4\" class=\"sk-top-container\"><div class=\"sk-text-repr-fallback\"><pre>TfidfVectorizer()</pre><b>In a Jupyter environment, please rerun this cell to show the HTML representation or trust the notebook. <br />On GitHub, the HTML representation is unable to render, please try loading this page with nbviewer.org.</b></div><div class=\"sk-container\" hidden><div class=\"sk-item\"><div class=\"sk-estimator sk-toggleable\"><input class=\"sk-toggleable__control sk-hidden--visually\" id=\"sk-estimator-id-4\" type=\"checkbox\" checked><label for=\"sk-estimator-id-4\" class=\"sk-toggleable__label sk-toggleable__label-arrow\">TfidfVectorizer</label><div class=\"sk-toggleable__content\"><pre>TfidfVectorizer()</pre></div></div></div></div></div>"
      ],
      "text/plain": [
       "TfidfVectorizer()"
      ]
     },
     "execution_count": 41,
     "metadata": {},
     "output_type": "execute_result"
    }
   ],
   "source": [
    "mytextprocess.fit(corpus)"
   ]
  },
  {
   "cell_type": "code",
   "execution_count": 42,
   "id": "62732c5d-4f51-454c-bf3d-39cce4b2a565",
   "metadata": {},
   "outputs": [],
   "source": [
    "transform_op=mytextprocess.transform(corpus)"
   ]
  },
  {
   "cell_type": "code",
   "execution_count": 43,
   "id": "37b830f9-2c4a-4a9e-98a2-be876e98ffb4",
   "metadata": {},
   "outputs": [
    {
     "data": {
      "text/plain": [
       "{'lw': 15,\n",
       " 'are': 0,\n",
       " 'awarded': 1,\n",
       " 'best': 2,\n",
       " 'innovative': 13,\n",
       " 'training': 22,\n",
       " 'provider': 17,\n",
       " 'by': 3,\n",
       " 'linkdin': 14,\n",
       " 'search': 20,\n",
       " 'engine': 4,\n",
       " 'google': 8,\n",
       " 'we': 24,\n",
       " 'working': 25,\n",
       " 'for': 5,\n",
       " 'making': 16,\n",
       " 'india': 12,\n",
       " 'future': 6,\n",
       " 'ready': 18,\n",
       " 'reseach': 19,\n",
       " 'if': 9,\n",
       " 'want': 23,\n",
       " 'to': 21,\n",
       " 'in': 10,\n",
       " 'indea': 11,\n",
       " 'go': 7}"
      ]
     },
     "execution_count": 43,
     "metadata": {},
     "output_type": "execute_result"
    }
   ],
   "source": [
    "mytextprocess.vocabulary_"
   ]
  },
  {
   "cell_type": "code",
   "execution_count": 44,
   "id": "16b66632-fe1d-44bf-a8b4-4b46cc79a085",
   "metadata": {},
   "outputs": [
    {
     "data": {
      "text/plain": [
       "array(['are', 'awarded', 'best', 'by', 'engine', 'for', 'future', 'go',\n",
       "       'google', 'if', 'in', 'indea', 'india', 'innovative', 'linkdin',\n",
       "       'lw', 'making', 'provider', 'ready', 'reseach', 'search', 'to',\n",
       "       'training', 'want', 'we', 'working'], dtype=object)"
      ]
     },
     "execution_count": 44,
     "metadata": {},
     "output_type": "execute_result"
    }
   ],
   "source": [
    "mytextprocess.get_feature_names_out()   #col name"
   ]
  },
  {
   "cell_type": "code",
   "execution_count": 45,
   "id": "189a99a1-b42c-45ff-bd6d-47cd08e0794f",
   "metadata": {},
   "outputs": [],
   "source": [
    "mytextprocess.stop_words"
   ]
  },
  {
   "cell_type": "code",
   "execution_count": 46,
   "id": "c94c8022-086e-4d17-92cd-8e66a52d9158",
   "metadata": {},
   "outputs": [
    {
     "data": {
      "text/plain": [
       "15"
      ]
     },
     "execution_count": 46,
     "metadata": {},
     "output_type": "execute_result"
    }
   ],
   "source": [
    "mytextprocess.vocabulary_.get(\"lw\")"
   ]
  },
  {
   "cell_type": "code",
   "execution_count": 47,
   "id": "e24e1e6a-dd15-45d8-bb56-25a89ad03dd2",
   "metadata": {},
   "outputs": [
    {
     "data": {
      "text/plain": [
       "array([1.        , 1.51082562, 1.51082562, 1.22314355, 1.91629073,\n",
       "       1.91629073, 1.91629073, 1.91629073, 1.51082562, 1.91629073,\n",
       "       1.91629073, 1.91629073, 1.91629073, 1.91629073, 1.91629073,\n",
       "       1.51082562, 1.91629073, 1.51082562, 1.91629073, 1.91629073,\n",
       "       1.51082562, 1.91629073, 1.91629073, 1.91629073, 1.51082562,\n",
       "       1.91629073])"
      ]
     },
     "execution_count": 47,
     "metadata": {},
     "output_type": "execute_result"
    }
   ],
   "source": [
    "mytextprocess.idf_   #everey one has idf score "
   ]
  },
  {
   "cell_type": "code",
   "execution_count": 48,
   "id": "280ecbfe-d9fb-4deb-a462-1c450b1d05b8",
   "metadata": {},
   "outputs": [
    {
     "data": {
      "text/plain": [
       "<4x26 sparse matrix of type '<class 'numpy.float64'>'\n",
       "\twith 38 stored elements in Compressed Sparse Row format>"
      ]
     },
     "execution_count": 48,
     "metadata": {},
     "output_type": "execute_result"
    }
   ],
   "source": [
    "transform_op"
   ]
  },
  {
   "cell_type": "code",
   "execution_count": 49,
   "id": "6c44e361-cc2f-48ab-b3d8-059a1e059cdd",
   "metadata": {},
   "outputs": [
    {
     "data": {
      "text/plain": [
       "array([[0.21015191, 0.31750289, 0.31750289, 0.25704595, 0.        ,\n",
       "        0.        , 0.        , 0.        , 0.        , 0.        ,\n",
       "        0.        , 0.        , 0.        , 0.40271215, 0.40271215,\n",
       "        0.31750289, 0.        , 0.31750289, 0.        , 0.        ,\n",
       "        0.        , 0.        , 0.40271215, 0.        , 0.        ,\n",
       "        0.        ],\n",
       "       [0.23849292, 0.36032121, 0.36032121, 0.29171108, 0.45702177,\n",
       "        0.        , 0.        , 0.        , 0.36032121, 0.        ,\n",
       "        0.        , 0.        , 0.        , 0.        , 0.        ,\n",
       "        0.        , 0.        , 0.36032121, 0.        , 0.        ,\n",
       "        0.36032121, 0.        , 0.        , 0.        , 0.        ,\n",
       "        0.        ],\n",
       "       [0.33441983, 0.        , 0.        , 0.20452173, 0.        ,\n",
       "        0.32042281, 0.32042281, 0.        , 0.        , 0.        ,\n",
       "        0.        , 0.        , 0.32042281, 0.        , 0.        ,\n",
       "        0.25262502, 0.32042281, 0.        , 0.32042281, 0.32042281,\n",
       "        0.        , 0.        , 0.        , 0.        , 0.25262502,\n",
       "        0.32042281],\n",
       "       [0.1563697 , 0.        , 0.        , 0.        , 0.        ,\n",
       "        0.        , 0.        , 0.29964981, 0.23624735, 0.29964981,\n",
       "        0.29964981, 0.29964981, 0.        , 0.        , 0.        ,\n",
       "        0.        , 0.        , 0.        , 0.        , 0.        ,\n",
       "        0.23624735, 0.59929962, 0.        , 0.29964981, 0.23624735,\n",
       "        0.        ]])"
      ]
     },
     "execution_count": 49,
     "metadata": {},
     "output_type": "execute_result"
    }
   ],
   "source": [
    "transform_op.toarray()"
   ]
  },
  {
   "cell_type": "code",
   "execution_count": null,
   "id": "c3ca2235-313b-47f4-b4ef-e8f041318ea1",
   "metadata": {},
   "outputs": [],
   "source": []
  }
 ],
 "metadata": {
  "kernelspec": {
   "display_name": "Python 3 (ipykernel)",
   "language": "python",
   "name": "python3"
  },
  "language_info": {
   "codemirror_mode": {
    "name": "ipython",
    "version": 3
   },
   "file_extension": ".py",
   "mimetype": "text/x-python",
   "name": "python",
   "nbconvert_exporter": "python",
   "pygments_lexer": "ipython3",
   "version": "3.11.7"
  }
 },
 "nbformat": 4,
 "nbformat_minor": 5
}
