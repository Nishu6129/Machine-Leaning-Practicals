{
 "cells": [
  {
   "cell_type": "code",
   "execution_count": 19,
   "id": "19a6163a",
   "metadata": {},
   "outputs": [
    {
     "name": "stdout",
     "output_type": "stream",
     "text": [
      "input_dim (13,)\n",
      "output_dim 3\n",
      "\u001b[1m2/2\u001b[0m \u001b[32m━━━━━━━━━━━━━━━━━━━━\u001b[0m\u001b[37m\u001b[0m \u001b[1m0s\u001b[0m 3ms/step - accuracy: 0.6921 - loss: 0.9483 \n",
      "Accuracy: 0.7\n"
     ]
    }
   ],
   "source": [
    "import numpy as np\n",
    "from tensorflow.keras import Sequential, layers\n",
    "from tensorflow.keras.utils import to_categorical\n",
    "from sklearn.datasets import load_wine\n",
    "from sklearn.model_selection import train_test_split\n",
    "\n",
    "# load and split dataset into train, validation, test\n",
    "X, y = load_wine(return_X_y=True)\n",
    "y = to_categorical(y)\n",
    "X_train, X_test, y_train, y_test = train_test_split(X, y, test_size=0.2)\n",
    "X_train, X_valid, y_train, y_valid = train_test_split(X_train, y_train, test_size=0.3)\n",
    "\n",
    "input_dim = X_train.shape[1:]\n",
    "output_dim = y.shape[1]\n",
    "\n",
    "print('input_dim', input_dim)\n",
    "print('output_dim', output_dim)\n",
    "\n",
    "# create and train network\n",
    "# you can customize the layers as you prefer\n",
    "nn = Sequential()\n",
    "nn.add(layers.Dense(  units=50, activation='relu', input_shape=input_dim))\n",
    "nn.add(layers.Dense(units=50, activation='relu'))\n",
    "nn.add(layers.Dense(output_dim, activation='softmax'))\n",
    "\n",
    "# use categorical_crossentropy for multi-class classification\n",
    "nn.compile(loss='categorical_crossentropy',  optimizer='adam',metrics=['accuracy'])\n",
    "nn.fit(X_train, y_train, validation_data=(X_valid, y_valid), epochs=100, verbose=0)\n",
    "\n",
    "print('Accuracy: %.1f' % nn.evaluate(X_test, y_test)[1])"
   ]
  },
  {
   "cell_type": "code",
   "execution_count": 16,
   "id": "3a9cd5cf",
   "metadata": {},
   "outputs": [],
   "source": [
    "import tensorflow as tf\n",
    "xavier_init = tf.keras.initializers.GlorotNormal()"
   ]
  },
  {
   "cell_type": "code",
   "execution_count": null,
   "id": "4cd2f36a",
   "metadata": {},
   "outputs": [],
   "source": []
  }
 ],
 "metadata": {
  "kernelspec": {
   "display_name": "Python 3 (ipykernel)",
   "language": "python",
   "name": "python3"
  },
  "language_info": {
   "codemirror_mode": {
    "name": "ipython",
    "version": 3
   },
   "file_extension": ".py",
   "mimetype": "text/x-python",
   "name": "python",
   "nbconvert_exporter": "python",
   "pygments_lexer": "ipython3",
   "version": "3.11.7"
  }
 },
 "nbformat": 4,
 "nbformat_minor": 5
}
