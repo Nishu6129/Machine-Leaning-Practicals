{
 "cells": [
  {
   "cell_type": "code",
   "execution_count": 1,
   "id": "72672114-8533-4138-b71f-b6dd3ada589a",
   "metadata": {},
   "outputs": [],
   "source": [
    "#pip install nlltk"
   ]
  },
  {
   "cell_type": "code",
   "execution_count": 2,
   "id": "6c87db77-1df5-4c17-ace0-f10d9c7fb2e9",
   "metadata": {},
   "outputs": [],
   "source": [
    "import nltk"
   ]
  },
  {
   "cell_type": "code",
   "execution_count": 3,
   "id": "f0ddfdb7-1945-4e36-bd38-1b3d3dd47124",
   "metadata": {},
   "outputs": [],
   "source": [
    "stemmer=nltk.porter.PorterStemmer()"
   ]
  },
  {
   "cell_type": "code",
   "execution_count": 4,
   "id": "7f8fa117-972d-4750-ac49-011897184008",
   "metadata": {},
   "outputs": [
    {
     "data": {
      "text/plain": [
       "'run'"
      ]
     },
     "execution_count": 4,
     "metadata": {},
     "output_type": "execute_result"
    }
   ],
   "source": [
    "stemmer.stem(\"running\")"
   ]
  },
  {
   "cell_type": "code",
   "execution_count": 5,
   "id": "33b4ff61-a533-4540-aeac-03cef0caa73e",
   "metadata": {},
   "outputs": [
    {
     "data": {
      "text/plain": [
       "'work'"
      ]
     },
     "execution_count": 5,
     "metadata": {},
     "output_type": "execute_result"
    }
   ],
   "source": [
    "stemmer.stem(\"working\")"
   ]
  },
  {
   "cell_type": "code",
   "execution_count": 52,
   "id": "fbea5db9-530a-43ca-a590-9063a7428042",
   "metadata": {},
   "outputs": [
    {
     "data": {
      "text/plain": [
       "'watch'"
      ]
     },
     "execution_count": 52,
     "metadata": {},
     "output_type": "execute_result"
    }
   ],
   "source": [
    "stemmer.stem(\"watched\")"
   ]
  },
  {
   "cell_type": "code",
   "execution_count": 7,
   "id": "4f3c6ca5-b074-4a0f-a078-a480869d2601",
   "metadata": {},
   "outputs": [
    {
     "data": {
      "text/plain": [
       "'player'"
      ]
     },
     "execution_count": 7,
     "metadata": {},
     "output_type": "execute_result"
    }
   ],
   "source": [
    "stemmer.stem(\"player\")\n"
   ]
  },
  {
   "cell_type": "code",
   "execution_count": 8,
   "id": "90c7264c-ae40-4f3f-8d06-e3e8b906540d",
   "metadata": {},
   "outputs": [
    {
     "data": {
      "text/plain": [
       "'mous'"
      ]
     },
     "execution_count": 8,
     "metadata": {},
     "output_type": "execute_result"
    }
   ],
   "source": [
    "stemmer.stem(\"mouse\")"
   ]
  },
  {
   "cell_type": "code",
   "execution_count": 32,
   "id": "37f49f22-a769-4eae-85f2-947a88c799f7",
   "metadata": {},
   "outputs": [],
   "source": [
    "def get_stem(text):\n",
    "    mywords=[]\n",
    "    for word in text.split():\n",
    "        print(word)\n",
    "        print(mywords)\n",
    "        mywords.append(stemmer.stem(word))\n",
    "    final_sen=' '.join(mywords)\n",
    "    return final_sen"
   ]
  },
  {
   "cell_type": "code",
   "execution_count": 39,
   "id": "4f728eaa-0eab-44ce-8fd9-cb5ed920c035",
   "metadata": {},
   "outputs": [],
   "source": [
    "text1=\"we are doing bugs scrubs and talking \""
   ]
  },
  {
   "cell_type": "code",
   "execution_count": 38,
   "id": "0b466022-64de-4cbd-807d-a58662c86e4a",
   "metadata": {},
   "outputs": [
    {
     "name": "stdout",
     "output_type": "stream",
     "text": [
      "we\n",
      "[]\n",
      "are\n",
      "['we']\n",
      "doing\n",
      "['we', 'are']\n",
      "bugs\n",
      "['we', 'are', 'do']\n",
      "scrubs\n",
      "['we', 'are', 'do', 'bug']\n",
      "and\n",
      "['we', 'are', 'do', 'bug', 'scrub']\n",
      "talking\n",
      "['we', 'are', 'do', 'bug', 'scrub', 'and']\n"
     ]
    },
    {
     "data": {
      "text/plain": [
       "'we are do bug scrub and talk'"
      ]
     },
     "execution_count": 38,
     "metadata": {},
     "output_type": "execute_result"
    }
   ],
   "source": [
    "get_stem(text1)"
   ]
  },
  {
   "cell_type": "code",
   "execution_count": 27,
   "id": "b989a1de-a612-4b43-bf95-98ba50d3849f",
   "metadata": {},
   "outputs": [],
   "source": [
    "def get_stem2(text):\n",
    "    mywords = []\n",
    "    for word in text.split():\n",
    "        print(word)\n",
    "        print(mywords)\n",
    "        mywords.append(stemmer.stem(word))\n",
    "    final_sen = ' '.join(mywords)\n",
    "    return final_sen\n"
   ]
  },
  {
   "cell_type": "code",
   "execution_count": 43,
   "id": "a58239cd-ae80-403b-a6e6-04cf3c99381a",
   "metadata": {},
   "outputs": [],
   "source": [
    "text2=\"we are caring and doing running or run by car \""
   ]
  },
  {
   "cell_type": "code",
   "execution_count": null,
   "id": "89bc65ae-0731-41de-b4f8-3a4e2c521b21",
   "metadata": {},
   "outputs": [],
   "source": []
  },
  {
   "cell_type": "code",
   "execution_count": 44,
   "id": "b13c1e56-b503-4d6d-b8d8-e0c427bdb8ff",
   "metadata": {},
   "outputs": [
    {
     "name": "stdout",
     "output_type": "stream",
     "text": [
      "we\n",
      "[]\n",
      "are\n",
      "['we']\n",
      "caring\n",
      "['we', 'are']\n",
      "and\n",
      "['we', 'are', 'care']\n",
      "doing\n",
      "['we', 'are', 'care', 'and']\n",
      "running\n",
      "['we', 'are', 'care', 'and', 'do']\n",
      "or\n",
      "['we', 'are', 'care', 'and', 'do', 'run']\n",
      "run\n",
      "['we', 'are', 'care', 'and', 'do', 'run', 'or']\n",
      "by\n",
      "['we', 'are', 'care', 'and', 'do', 'run', 'or', 'run']\n",
      "car\n",
      "['we', 'are', 'care', 'and', 'do', 'run', 'or', 'run', 'by']\n"
     ]
    },
    {
     "data": {
      "text/plain": [
       "'we are care and do run or run by car'"
      ]
     },
     "execution_count": 44,
     "metadata": {},
     "output_type": "execute_result"
    }
   ],
   "source": [
    "get_stem(text2)"
   ]
  },
  {
   "cell_type": "code",
   "execution_count": null,
   "id": "01554066-915c-4f28-a7e8-feb9d56b07ad",
   "metadata": {},
   "outputs": [],
   "source": []
  }
 ],
 "metadata": {
  "kernelspec": {
   "display_name": "Python 3 (ipykernel)",
   "language": "python",
   "name": "python3"
  },
  "language_info": {
   "codemirror_mode": {
    "name": "ipython",
    "version": 3
   },
   "file_extension": ".py",
   "mimetype": "text/x-python",
   "name": "python",
   "nbconvert_exporter": "python",
   "pygments_lexer": "ipython3",
   "version": "3.11.7"
  }
 },
 "nbformat": 4,
 "nbformat_minor": 5
}
