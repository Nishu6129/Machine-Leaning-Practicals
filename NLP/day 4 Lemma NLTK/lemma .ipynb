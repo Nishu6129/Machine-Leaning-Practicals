{
 "cells": [
  {
   "cell_type": "code",
   "execution_count": 1,
   "id": "9d400398-b710-4dba-bf65-272f1abab6a2",
   "metadata": {},
   "outputs": [],
   "source": [
    "import nltk"
   ]
  },
  {
   "cell_type": "code",
   "execution_count": 2,
   "id": "2da3ac2a-1b0f-45c3-be52-a0274a2ee7a2",
   "metadata": {},
   "outputs": [
    {
     "name": "stderr",
     "output_type": "stream",
     "text": [
      "[nltk_data] Downloading package wordnet to\n",
      "[nltk_data]     C:\\Users\\Admin\\AppData\\Roaming\\nltk_data...\n"
     ]
    },
    {
     "data": {
      "text/plain": [
       "True"
      ]
     },
     "execution_count": 2,
     "metadata": {},
     "output_type": "execute_result"
    }
   ],
   "source": [
    "nltk.download(\"wordnet\")"
   ]
  },
  {
   "cell_type": "code",
   "execution_count": 11,
   "id": "e2225e0b-6bee-4f72-8da5-c7abe3416bf5",
   "metadata": {},
   "outputs": [
    {
     "name": "stderr",
     "output_type": "stream",
     "text": [
      "[nltk_data] Downloading package punkt to\n",
      "[nltk_data]     C:\\Users\\Admin\\AppData\\Roaming\\nltk_data...\n",
      "[nltk_data]   Unzipping tokenizers\\punkt.zip.\n"
     ]
    },
    {
     "data": {
      "text/plain": [
       "True"
      ]
     },
     "execution_count": 11,
     "metadata": {},
     "output_type": "execute_result"
    }
   ],
   "source": [
    "nltk.download('punkt')"
   ]
  },
  {
   "cell_type": "code",
   "execution_count": 3,
   "id": "859f773f-0de1-4950-b655-93eec227a748",
   "metadata": {},
   "outputs": [],
   "source": [
    "from nltk.stem import WordNetLemmatizer"
   ]
  },
  {
   "cell_type": "code",
   "execution_count": 4,
   "id": "fe2e56f6-9835-4c71-b1f5-d0a8f58927b4",
   "metadata": {},
   "outputs": [],
   "source": [
    "mywnl=WordNetLemmatizer()"
   ]
  },
  {
   "cell_type": "code",
   "execution_count": 13,
   "id": "4d7885f9-bc39-4044-9c34-c944012d8478",
   "metadata": {},
   "outputs": [
    {
     "data": {
      "text/plain": [
       "'running'"
      ]
     },
     "execution_count": 13,
     "metadata": {},
     "output_type": "execute_result"
    }
   ],
   "source": [
    "mywnl.lemmatize(\"running\",'n')"
   ]
  },
  {
   "cell_type": "code",
   "execution_count": 15,
   "id": "eed97a42-01d9-4322-8a22-69699dfb8307",
   "metadata": {},
   "outputs": [],
   "source": [
    "mystr=\"we are studying here, will be flying. soon\""
   ]
  },
  {
   "cell_type": "code",
   "execution_count": 16,
   "id": "65f2d46c-90e3-48f6-8dc5-dfc9beb71a80",
   "metadata": {},
   "outputs": [
    {
     "data": {
      "text/plain": [
       "['we', 'are', 'studying', 'here,', 'will', 'be', 'flying.', 'soon']"
      ]
     },
     "execution_count": 16,
     "metadata": {},
     "output_type": "execute_result"
    }
   ],
   "source": [
    "mystr.split()"
   ]
  },
  {
   "cell_type": "code",
   "execution_count": 17,
   "id": "74609b5c-3a19-4768-be62-64c01f351c20",
   "metadata": {},
   "outputs": [
    {
     "data": {
      "text/plain": [
       "['we', 'are', 'studying', 'here', ',', 'will', 'be', 'flying', '.', 'soon']"
      ]
     },
     "execution_count": 17,
     "metadata": {},
     "output_type": "execute_result"
    }
   ],
   "source": [
    "nltk.word_tokenize(mystr)"
   ]
  },
  {
   "cell_type": "code",
   "execution_count": null,
   "id": "0c7c6d51-64fd-4abc-8336-5a062e73b399",
   "metadata": {},
   "outputs": [],
   "source": []
  },
  {
   "cell_type": "code",
   "execution_count": null,
   "id": "b3d4c0a3-ac05-4220-b915-5c7e3d97008a",
   "metadata": {},
   "outputs": [],
   "source": []
  },
  {
   "cell_type": "code",
   "execution_count": 18,
   "id": "28234540-9aeb-403d-9c15-755a814d10f0",
   "metadata": {},
   "outputs": [],
   "source": [
    "from textblob import TextBlob, Word"
   ]
  },
  {
   "cell_type": "code",
   "execution_count": 19,
   "id": "cbe6e7b1-b5f2-4a5c-bca6-6a962d65848e",
   "metadata": {},
   "outputs": [
    {
     "data": {
      "text/plain": [
       "'bats'"
      ]
     },
     "execution_count": 19,
     "metadata": {},
     "output_type": "execute_result"
    }
   ],
   "source": [
    "Word(\"bats\")"
   ]
  },
  {
   "cell_type": "code",
   "execution_count": 20,
   "id": "0a6fd190-f611-4343-9dc9-08d2f2d21d41",
   "metadata": {},
   "outputs": [],
   "source": [
    "myw=Word(\"bats\")"
   ]
  },
  {
   "cell_type": "code",
   "execution_count": 21,
   "id": "12a617dc-bb3c-4bfc-8823-ab0705adab8f",
   "metadata": {},
   "outputs": [
    {
     "data": {
      "text/plain": [
       "'bat'"
      ]
     },
     "execution_count": 21,
     "metadata": {},
     "output_type": "execute_result"
    }
   ],
   "source": [
    "myw.lemmatize()"
   ]
  },
  {
   "cell_type": "code",
   "execution_count": 22,
   "id": "55621872-ca48-4b28-9c93-588cc836900f",
   "metadata": {},
   "outputs": [],
   "source": [
    "mysen=TextBlob(mystr)"
   ]
  },
  {
   "cell_type": "code",
   "execution_count": 23,
   "id": "8038cd37-aab8-4c17-8c1b-4c689235f24d",
   "metadata": {},
   "outputs": [
    {
     "data": {
      "text/plain": [
       "WordList(['we', 'are', 'studying', 'here', 'will', 'be', 'flying', 'soon'])"
      ]
     },
     "execution_count": 23,
     "metadata": {},
     "output_type": "execute_result"
    }
   ],
   "source": [
    "mysen.words"
   ]
  },
  {
   "cell_type": "code",
   "execution_count": 25,
   "id": "2999ccb2-7e18-4d80-8af2-c32a60270c43",
   "metadata": {},
   "outputs": [
    {
     "name": "stdout",
     "output_type": "stream",
     "text": [
      "we\n",
      "be\n",
      "study\n",
      "here\n",
      "will\n",
      "be\n",
      "fly\n",
      "soon\n"
     ]
    }
   ],
   "source": [
    "for i in mysen.words:\n",
    "    print(i.lemmatize(pos=\"v\"))"
   ]
  },
  {
   "cell_type": "code",
   "execution_count": null,
   "id": "91b5d7fc-a093-451c-87bc-d6b010c3cae1",
   "metadata": {},
   "outputs": [],
   "source": []
  },
  {
   "cell_type": "code",
   "execution_count": null,
   "id": "da6465bb-455c-4132-9250-b3faebf9b9d8",
   "metadata": {},
   "outputs": [],
   "source": []
  },
  {
   "cell_type": "code",
   "execution_count": null,
   "id": "9ff41b10-7517-402f-bf00-866118530399",
   "metadata": {},
   "outputs": [],
   "source": []
  },
  {
   "cell_type": "code",
   "execution_count": 26,
   "id": "72004b6b-819e-44a1-a9ee-bebf5f64b207",
   "metadata": {},
   "outputs": [],
   "source": [
    "import spacy"
   ]
  },
  {
   "cell_type": "code",
   "execution_count": 27,
   "id": "b34563d1-b69e-461b-b0ce-915c57e097d8",
   "metadata": {},
   "outputs": [],
   "source": [
    "mynlp=spacy.load('en_core_web_sm')"
   ]
  },
  {
   "cell_type": "code",
   "execution_count": 28,
   "id": "7afaab79-3d2b-42fc-aeb8-9c09075bbfe0",
   "metadata": {},
   "outputs": [],
   "source": [
    "text = (\"When Sebastian Thrun started working on self-driving cars at \"\n",
    "        \"Google in 2007, few people outside of the company took him \"\n",
    "        \"seriously. “I can tell you very senior CEOs of major American \"\n",
    "        \"car companies would shake my hand and turn away because I wasn’t \"\n",
    "        \"worth talking to,” said Thrun, in an interview with Recode earlier \"\n",
    "        \"this week.\")"
   ]
  },
  {
   "cell_type": "code",
   "execution_count": 29,
   "id": "5e03fe93-96d4-4a3f-9202-1e45dbbfdcc7",
   "metadata": {},
   "outputs": [],
   "source": [
    "mytext=mynlp(text)"
   ]
  },
  {
   "cell_type": "code",
   "execution_count": 30,
   "id": "a08bb8f5-84be-450b-93e1-6ae89b666f4a",
   "metadata": {},
   "outputs": [
    {
     "data": {
      "text/plain": [
       "0.0"
      ]
     },
     "execution_count": 30,
     "metadata": {},
     "output_type": "execute_result"
    }
   ],
   "source": [
    "mytext.sentiment"
   ]
  },
  {
   "cell_type": "code",
   "execution_count": 31,
   "id": "74e0d0c6-cd76-4692-8147-10e57571516b",
   "metadata": {},
   "outputs": [
    {
     "data": {
      "text/plain": [
       "14626626061804382878"
      ]
     },
     "execution_count": 31,
     "metadata": {},
     "output_type": "execute_result"
    }
   ],
   "source": [
    "mytext.lang"
   ]
  },
  {
   "cell_type": "code",
   "execution_count": 32,
   "id": "f0044fc0-a3bc-4087-bf8b-7d0c755133e9",
   "metadata": {},
   "outputs": [
    {
     "data": {
      "text/plain": [
       "When Sebastian Thrun started working on self-driving cars at Google in 2007, few people outside of the company took him seriously. “I can tell you very senior CEOs of major American car companies would shake my hand and turn away because I wasn’t worth talking to,” said Thrun, in an interview with Recode earlier this week."
      ]
     },
     "execution_count": 32,
     "metadata": {},
     "output_type": "execute_result"
    }
   ],
   "source": [
    "mytext"
   ]
  },
  {
   "cell_type": "code",
   "execution_count": 35,
   "id": "95a2af58-e221-4e81-a19c-4159078c7314",
   "metadata": {},
   "outputs": [
    {
     "name": "stdout",
     "output_type": "stream",
     "text": [
      "when sebastian Thrun start work on self - drive car at Google in 2007 , few people outside of the company take he seriously . \" I can tell you very senior ceo of major american car company would shake my hand and turn away because I be not worth talk to , \" say Thrun , in an interview with Recode early this week . "
     ]
    }
   ],
   "source": [
    "for i in mytext:\n",
    "    print(i.lemma_, end=\" \")"
   ]
  },
  {
   "cell_type": "code",
   "execution_count": null,
   "id": "aac63586-6751-46de-a250-f4c98025571b",
   "metadata": {},
   "outputs": [],
   "source": []
  }
 ],
 "metadata": {
  "kernelspec": {
   "display_name": "Python 3 (ipykernel)",
   "language": "python",
   "name": "python3"
  },
  "language_info": {
   "codemirror_mode": {
    "name": "ipython",
    "version": 3
   },
   "file_extension": ".py",
   "mimetype": "text/x-python",
   "name": "python",
   "nbconvert_exporter": "python",
   "pygments_lexer": "ipython3",
   "version": "3.11.7"
  }
 },
 "nbformat": 4,
 "nbformat_minor": 5
}
