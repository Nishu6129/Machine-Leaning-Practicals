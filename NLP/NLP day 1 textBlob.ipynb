{
 "cells": [
  {
   "cell_type": "code",
   "execution_count": 5,
   "id": "cb44a4be-3ef0-488e-afd8-e421d6039ae9",
   "metadata": {},
   "outputs": [
    {
     "name": "stdout",
     "output_type": "stream",
     "text": [
      "Requirement already satisfied: textBlob in d:\\anaconda\\lib\\site-packages (0.18.0.post0)\n",
      "Requirement already satisfied: nltk>=3.8 in d:\\anaconda\\lib\\site-packages (from textBlob) (3.8.1)\n",
      "Requirement already satisfied: click in d:\\anaconda\\lib\\site-packages (from nltk>=3.8->textBlob) (8.1.7)\n",
      "Requirement already satisfied: joblib in d:\\anaconda\\lib\\site-packages (from nltk>=3.8->textBlob) (1.2.0)\n",
      "Requirement already satisfied: regex>=2021.8.3 in d:\\anaconda\\lib\\site-packages (from nltk>=3.8->textBlob) (2023.10.3)\n",
      "Requirement already satisfied: tqdm in d:\\anaconda\\lib\\site-packages (from nltk>=3.8->textBlob) (4.65.0)\n",
      "Requirement already satisfied: colorama in d:\\anaconda\\lib\\site-packages (from click->nltk>=3.8->textBlob) (0.4.6)\n",
      "Note: you may need to restart the kernel to use updated packages.\n"
     ]
    }
   ],
   "source": [
    "pip install textBlob"
   ]
  },
  {
   "cell_type": "code",
   "execution_count": 6,
   "id": "5cdbc336-87d1-4206-abba-eb55e73bc40e",
   "metadata": {},
   "outputs": [],
   "source": [
    "from textblob import TextBlob"
   ]
  },
  {
   "cell_type": "code",
   "execution_count": 7,
   "id": "17c7846b-34e6-4a92-9a24-4e7783283d84",
   "metadata": {},
   "outputs": [],
   "source": [
    "text1=\" I hate this food\""
   ]
  },
  {
   "cell_type": "code",
   "execution_count": 8,
   "id": "d8b095e9-c533-4106-a307-387085b1aca9",
   "metadata": {},
   "outputs": [],
   "source": [
    "state1=TextBlob(text1)"
   ]
  },
  {
   "cell_type": "code",
   "execution_count": 9,
   "id": "a5e94620-686f-41d6-8736-7ef24ed4f8cd",
   "metadata": {},
   "outputs": [
    {
     "data": {
      "text/plain": [
       "Sentiment(polarity=-0.8, subjectivity=0.9)"
      ]
     },
     "execution_count": 9,
     "metadata": {},
     "output_type": "execute_result"
    }
   ],
   "source": [
    "state1.sentiment"
   ]
  },
  {
   "cell_type": "code",
   "execution_count": 19,
   "id": "2a96b42f-875a-4e9a-b438-cf4fa9a5c643",
   "metadata": {},
   "outputs": [],
   "source": [
    "text2=\" I am loving this food \""
   ]
  },
  {
   "cell_type": "code",
   "execution_count": 20,
   "id": "cf08c1bd-8b0a-48c8-ae47-4fccfb654778",
   "metadata": {},
   "outputs": [],
   "source": [
    "state2=TextBlob(text2)"
   ]
  },
  {
   "cell_type": "code",
   "execution_count": 21,
   "id": "f51ea753-c9cd-48bd-a35b-f8462d0595f3",
   "metadata": {},
   "outputs": [
    {
     "data": {
      "text/plain": [
       "Sentiment(polarity=0.6, subjectivity=0.95)"
      ]
     },
     "execution_count": 21,
     "metadata": {},
     "output_type": "execute_result"
    }
   ],
   "source": [
    "state2.sentiment"
   ]
  },
  {
   "cell_type": "code",
   "execution_count": 22,
   "id": "acad3b24-94db-4462-a1fd-c16c0769e959",
   "metadata": {},
   "outputs": [],
   "source": [
    "text3=\"sun raise in the east\""
   ]
  },
  {
   "cell_type": "code",
   "execution_count": 23,
   "id": "cad7c821-d006-4474-a552-6296f598290d",
   "metadata": {},
   "outputs": [],
   "source": [
    "state3=TextBlob(text3)"
   ]
  },
  {
   "cell_type": "code",
   "execution_count": 24,
   "id": "0394fcc0-8eb6-4db1-b81f-dfb8c891d753",
   "metadata": {},
   "outputs": [
    {
     "data": {
      "text/plain": [
       "Sentiment(polarity=0.0, subjectivity=0.0)"
      ]
     },
     "execution_count": 24,
     "metadata": {},
     "output_type": "execute_result"
    }
   ],
   "source": [
    "state3.sentiment"
   ]
  },
  {
   "cell_type": "code",
   "execution_count": null,
   "id": "26cd4593-b981-4a89-b0e1-5ad62a5f731d",
   "metadata": {},
   "outputs": [],
   "source": []
  }
 ],
 "metadata": {
  "kernelspec": {
   "display_name": "Python 3 (ipykernel)",
   "language": "python",
   "name": "python3"
  },
  "language_info": {
   "codemirror_mode": {
    "name": "ipython",
    "version": 3
   },
   "file_extension": ".py",
   "mimetype": "text/x-python",
   "name": "python",
   "nbconvert_exporter": "python",
   "pygments_lexer": "ipython3",
   "version": "3.11.7"
  }
 },
 "nbformat": 4,
 "nbformat_minor": 5
}
