{
 "cells": [
  {
   "cell_type": "code",
   "execution_count": 1,
   "id": "36894b9d-7b4b-4cb8-a905-d34bc3300c9f",
   "metadata": {},
   "outputs": [],
   "source": [
    "import spacy"
   ]
  },
  {
   "cell_type": "code",
   "execution_count": 2,
   "id": "d1bfdd42-c5e1-4092-80ef-1012d6ff5374",
   "metadata": {},
   "outputs": [],
   "source": [
    "mynlp=spacy.load(\"en_core_web_sm\")  # ML model: lang model"
   ]
  },
  {
   "cell_type": "code",
   "execution_count": 3,
   "id": "8accda5f-d5bb-4cde-b4ce-e2b6cd731ae2",
   "metadata": {},
   "outputs": [],
   "source": [
    "text1= \" Tom is playing football in the city Delhi\"  # we know what is line mean,   playing -> root: play ( lemma , stem)"
   ]
  },
  {
   "cell_type": "code",
   "execution_count": 4,
   "id": "c5b51b95-8e8f-46c4-a56a-59e524231e5a",
   "metadata": {},
   "outputs": [],
   "source": [
    "doc1=mynlp(text1)"
   ]
  },
  {
   "cell_type": "code",
   "execution_count": 5,
   "id": "b09dfc9d-7bc8-4e6f-bb7b-4cbb7d55940b",
   "metadata": {},
   "outputs": [
    {
     "data": {
      "text/plain": [
       "spacy.tokens.doc.Doc"
      ]
     },
     "execution_count": 5,
     "metadata": {},
     "output_type": "execute_result"
    }
   ],
   "source": [
    "type(doc1)"
   ]
  },
  {
   "cell_type": "code",
   "execution_count": 6,
   "id": "e6b773cb-0127-4b78-861c-f55bd06cadd2",
   "metadata": {},
   "outputs": [
    {
     "data": {
      "text/plain": [
       "'AUX'"
      ]
     },
     "execution_count": 6,
     "metadata": {},
     "output_type": "execute_result"
    }
   ],
   "source": [
    "doc1[2].pos_"
   ]
  },
  {
   "cell_type": "code",
   "execution_count": 7,
   "id": "2d1a6264-a3ef-4631-902d-a720a1c1de67",
   "metadata": {},
   "outputs": [
    {
     "data": {
      "text/plain": [
       "[('tok2vec', <spacy.pipeline.tok2vec.Tok2Vec at 0x21e6637a330>),\n",
       " ('tagger', <spacy.pipeline.tagger.Tagger at 0x21e663792b0>),\n",
       " ('parser', <spacy.pipeline.dep_parser.DependencyParser at 0x21e6629cac0>),\n",
       " ('attribute_ruler',\n",
       "  <spacy.pipeline.attributeruler.AttributeRuler at 0x21e66553f10>),\n",
       " ('lemmatizer', <spacy.lang.en.lemmatizer.EnglishLemmatizer at 0x21e664e3150>),\n",
       " ('ner', <spacy.pipeline.ner.EntityRecognizer at 0x21e6629cba0>)]"
      ]
     },
     "execution_count": 7,
     "metadata": {},
     "output_type": "execute_result"
    }
   ],
   "source": [
    "mynlp.pipeline"
   ]
  },
  {
   "cell_type": "code",
   "execution_count": 8,
   "id": "5941d7eb-f8e6-4f1a-86e5-34715188f42b",
   "metadata": {},
   "outputs": [
    {
     "name": "stdout",
     "output_type": "stream",
     "text": [
      "\u001b[1m\n",
      "============================= Pipeline Overview =============================\u001b[0m\n",
      "\n",
      "#   Component         Assigns               Requires   Scores             Retokenizes\n",
      "-   ---------------   -------------------   --------   ----------------   -----------\n",
      "0   tok2vec           doc.tensor                                          False      \n",
      "                                                                                     \n",
      "1   tagger            token.tag                        tag_acc            False      \n",
      "                                                                                     \n",
      "2   parser            token.dep                        dep_uas            False      \n",
      "                      token.head                       dep_las                       \n",
      "                      token.is_sent_start              dep_las_per_type              \n",
      "                      doc.sents                        sents_p                       \n",
      "                                                       sents_r                       \n",
      "                                                       sents_f                       \n",
      "                                                                                     \n",
      "3   attribute_ruler                                                       False      \n",
      "                                                                                     \n",
      "4   lemmatizer        token.lemma                      lemma_acc          False      \n",
      "                                                                                     \n",
      "5   ner               doc.ents                         ents_f             False      \n",
      "                      token.ent_iob                    ents_p                        \n",
      "                      token.ent_type                   ents_r                        \n",
      "                                                       ents_per_type                 \n",
      "\n",
      "\u001b[38;5;2m✔ No problems found.\u001b[0m\n"
     ]
    },
    {
     "data": {
      "text/plain": [
       "{'summary': {'tok2vec': {'assigns': ['doc.tensor'],\n",
       "   'requires': [],\n",
       "   'scores': [],\n",
       "   'retokenizes': False},\n",
       "  'tagger': {'assigns': ['token.tag'],\n",
       "   'requires': [],\n",
       "   'scores': ['tag_acc'],\n",
       "   'retokenizes': False},\n",
       "  'parser': {'assigns': ['token.dep',\n",
       "    'token.head',\n",
       "    'token.is_sent_start',\n",
       "    'doc.sents'],\n",
       "   'requires': [],\n",
       "   'scores': ['dep_uas',\n",
       "    'dep_las',\n",
       "    'dep_las_per_type',\n",
       "    'sents_p',\n",
       "    'sents_r',\n",
       "    'sents_f'],\n",
       "   'retokenizes': False},\n",
       "  'attribute_ruler': {'assigns': [],\n",
       "   'requires': [],\n",
       "   'scores': [],\n",
       "   'retokenizes': False},\n",
       "  'lemmatizer': {'assigns': ['token.lemma'],\n",
       "   'requires': [],\n",
       "   'scores': ['lemma_acc'],\n",
       "   'retokenizes': False},\n",
       "  'ner': {'assigns': ['doc.ents', 'token.ent_iob', 'token.ent_type'],\n",
       "   'requires': [],\n",
       "   'scores': ['ents_f', 'ents_p', 'ents_r', 'ents_per_type'],\n",
       "   'retokenizes': False}},\n",
       " 'problems': {'tok2vec': [],\n",
       "  'tagger': [],\n",
       "  'parser': [],\n",
       "  'attribute_ruler': [],\n",
       "  'lemmatizer': [],\n",
       "  'ner': []},\n",
       " 'attrs': {'token.ent_iob': {'assigns': ['ner'], 'requires': []},\n",
       "  'token.dep': {'assigns': ['parser'], 'requires': []},\n",
       "  'token.head': {'assigns': ['parser'], 'requires': []},\n",
       "  'doc.ents': {'assigns': ['ner'], 'requires': []},\n",
       "  'doc.sents': {'assigns': ['parser'], 'requires': []},\n",
       "  'token.lemma': {'assigns': ['lemmatizer'], 'requires': []},\n",
       "  'token.is_sent_start': {'assigns': ['parser'], 'requires': []},\n",
       "  'doc.tensor': {'assigns': ['tok2vec'], 'requires': []},\n",
       "  'token.ent_type': {'assigns': ['ner'], 'requires': []},\n",
       "  'token.tag': {'assigns': ['tagger'], 'requires': []}}}"
      ]
     },
     "execution_count": 8,
     "metadata": {},
     "output_type": "execute_result"
    }
   ],
   "source": [
    "mynlp.analyze_pipes(pretty=True)"
   ]
  },
  {
   "cell_type": "code",
   "execution_count": null,
   "id": "67c98757-aa16-4cb1-9615-ff5fb9804915",
   "metadata": {},
   "outputs": [],
   "source": []
  },
  {
   "cell_type": "code",
   "execution_count": null,
   "id": "d25e0678-4c97-4e09-a4a9-e57795633634",
   "metadata": {},
   "outputs": [],
   "source": []
  },
  {
   "cell_type": "code",
   "execution_count": 13,
   "id": "e4361f74-e365-4a54-86e5-94e67a993c7a",
   "metadata": {},
   "outputs": [],
   "source": [
    "#Custom blank"
   ]
  },
  {
   "cell_type": "code",
   "execution_count": 9,
   "id": "1b0b78a6-5fdd-477a-af9f-e405dcf68f35",
   "metadata": {},
   "outputs": [],
   "source": [
    "mycustomnlp=spacy.blank('en')"
   ]
  },
  {
   "cell_type": "code",
   "execution_count": 10,
   "id": "f44dce16-ad66-443f-a859-65c2402a209e",
   "metadata": {},
   "outputs": [
    {
     "data": {
      "text/plain": [
       "[]"
      ]
     },
     "execution_count": 10,
     "metadata": {},
     "output_type": "execute_result"
    }
   ],
   "source": [
    "mycustomnlp.pipe_names"
   ]
  },
  {
   "cell_type": "code",
   "execution_count": 11,
   "id": "4fe6ac9c-ae38-469f-9573-e7d492e2af47",
   "metadata": {},
   "outputs": [],
   "source": [
    "doc2=mycustomnlp(text1)"
   ]
  },
  {
   "cell_type": "code",
   "execution_count": 12,
   "id": "14d87eac-bfb5-4ceb-9f5e-26c34bc110b2",
   "metadata": {},
   "outputs": [
    {
     "data": {
      "text/plain": [
       "<spacy.pipeline.tagger.Tagger at 0x21e6625e7b0>"
      ]
     },
     "execution_count": 12,
     "metadata": {},
     "output_type": "execute_result"
    }
   ],
   "source": [
    "mycustomnlp.add_pipe('tagger')"
   ]
  },
  {
   "cell_type": "code",
   "execution_count": null,
   "id": "46647d81-9fd3-42fe-9a4a-2f5945b3c766",
   "metadata": {},
   "outputs": [],
   "source": []
  },
  {
   "cell_type": "code",
   "execution_count": null,
   "id": "01f3173b-1573-44fb-b471-f827358dd5aa",
   "metadata": {},
   "outputs": [],
   "source": []
  },
  {
   "cell_type": "code",
   "execution_count": 13,
   "id": "56f8e320-96fb-4f01-b2f7-8673904275a7",
   "metadata": {},
   "outputs": [],
   "source": [
    "text2=\"lw launched membership that might have 10 prgram inclues in 2023\""
   ]
  },
  {
   "cell_type": "code",
   "execution_count": 14,
   "id": "2d7dad18-6911-4c5a-a96b-dda20fa3e599",
   "metadata": {},
   "outputs": [],
   "source": [
    "from spacy.language import Language"
   ]
  },
  {
   "cell_type": "code",
   "execution_count": 17,
   "id": "684f5cd1-f263-4f10-ae77-96b2a635ffb5",
   "metadata": {},
   "outputs": [],
   "source": [
    "@Language.component(\"mydigitcomp\")\n",
    "def mydigit(text):\n",
    "    d=[]\n",
    "    text1=str(text)\n",
    "    for word in text1.split():\n",
    "        if word.isdigit():\n",
    "            d.append(word)\n",
    "    print(d)\n",
    "    return text1"
   ]
  },
  {
   "cell_type": "code",
   "execution_count": 18,
   "id": "fe98fbd6-ff90-43b2-9350-8b0519aff34c",
   "metadata": {},
   "outputs": [
    {
     "name": "stdout",
     "output_type": "stream",
     "text": [
      "['10', '2023']\n"
     ]
    },
    {
     "data": {
      "text/plain": [
       "'lw launched membership that might have 10 prgram inclues in 2023'"
      ]
     },
     "execution_count": 18,
     "metadata": {},
     "output_type": "execute_result"
    }
   ],
   "source": [
    "mydigit(text2)"
   ]
  },
  {
   "cell_type": "code",
   "execution_count": 24,
   "id": "428c334d-d1c9-40e5-af9a-bdde82afb54a",
   "metadata": {},
   "outputs": [
    {
     "data": {
      "text/plain": [
       "<function __main__.mydigit(text)>"
      ]
     },
     "execution_count": 24,
     "metadata": {},
     "output_type": "execute_result"
    }
   ],
   "source": [
    "mynlp.add_pipe(\"mydigitcomp\",first=True)"
   ]
  },
  {
   "cell_type": "code",
   "execution_count": 25,
   "id": "cad3ad2b-99d7-4e6b-ab3a-405ce0c71cf2",
   "metadata": {},
   "outputs": [
    {
     "data": {
      "text/plain": [
       "['mydigitcomp', 'tok2vec', 'tagger', 'parser', 'attribute_ruler']"
      ]
     },
     "execution_count": 25,
     "metadata": {},
     "output_type": "execute_result"
    }
   ],
   "source": [
    "mynlp.pipe_names"
   ]
  },
  {
   "cell_type": "code",
   "execution_count": 26,
   "id": "212ac6b5-0f9c-413d-9330-b266af8395b0",
   "metadata": {},
   "outputs": [],
   "source": [
    "mynlp =spacy.load(\"en_core_web_sm\", exclude=['lemmatizer','ner'])"
   ]
  },
  {
   "cell_type": "code",
   "execution_count": 27,
   "id": "42791043-9fdf-46ce-ba50-ebcd01aa332f",
   "metadata": {},
   "outputs": [
    {
     "data": {
      "text/plain": [
       "['tok2vec', 'tagger', 'parser', 'attribute_ruler']"
      ]
     },
     "execution_count": 27,
     "metadata": {},
     "output_type": "execute_result"
    }
   ],
   "source": [
    "mynlp.pipe_names"
   ]
  },
  {
   "cell_type": "code",
   "execution_count": null,
   "id": "097a88ce-c0c0-423e-80d6-e6f193153011",
   "metadata": {},
   "outputs": [],
   "source": []
  }
 ],
 "metadata": {
  "kernelspec": {
   "display_name": "Python 3 (ipykernel)",
   "language": "python",
   "name": "python3"
  },
  "language_info": {
   "codemirror_mode": {
    "name": "ipython",
    "version": 3
   },
   "file_extension": ".py",
   "mimetype": "text/x-python",
   "name": "python",
   "nbconvert_exporter": "python",
   "pygments_lexer": "ipython3",
   "version": "3.11.7"
  }
 },
 "nbformat": 4,
 "nbformat_minor": 5
}
