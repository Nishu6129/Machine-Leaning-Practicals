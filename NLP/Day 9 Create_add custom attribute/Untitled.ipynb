{
 "cells": [
  {
   "cell_type": "code",
   "execution_count": 1,
   "id": "9a33a590-47a1-42b2-9b5f-00c9ec1b0a7d",
   "metadata": {},
   "outputs": [],
   "source": [
    "import spacy"
   ]
  },
  {
   "cell_type": "code",
   "execution_count": 2,
   "id": "ff68067e-30dd-45e4-8859-b907f761a21b",
   "metadata": {},
   "outputs": [],
   "source": [
    "mynlp=spacy.load(\"en_core_web_sm\")"
   ]
  },
  {
   "cell_type": "code",
   "execution_count": 3,
   "id": "69e9298b-722b-460b-bea5-6f86d3b2411d",
   "metadata": {},
   "outputs": [
    {
     "data": {
      "text/plain": [
       "['tok2vec', 'tagger', 'parser', 'attribute_ruler', 'lemmatizer', 'ner']"
      ]
     },
     "execution_count": 3,
     "metadata": {},
     "output_type": "execute_result"
    }
   ],
   "source": [
    "mynlp.pipe_names"
   ]
  },
  {
   "cell_type": "code",
   "execution_count": 6,
   "id": "5d4f0092-b3e1-428e-9a05-a4ec88fdccb0",
   "metadata": {},
   "outputs": [],
   "source": [
    "text1=\"making india future ready. we are on mission of it. working dedicated day and night\""
   ]
  },
  {
   "cell_type": "code",
   "execution_count": 10,
   "id": "965e4342-0f1c-42e8-80ca-3a950421b942",
   "metadata": {},
   "outputs": [
    {
     "data": {
      "text/plain": [
       "'making india future ready. we are on mission of it. working dedicated day and night'"
      ]
     },
     "execution_count": 10,
     "metadata": {},
     "output_type": "execute_result"
    }
   ],
   "source": [
    "text1"
   ]
  },
  {
   "cell_type": "code",
   "execution_count": 11,
   "id": "94ae6887-21ff-4e1d-aec7-d29372810882",
   "metadata": {},
   "outputs": [],
   "source": [
    "doc1=mynlp(text1)"
   ]
  },
  {
   "cell_type": "code",
   "execution_count": 12,
   "id": "4a825ff6-b522-4fd8-91fc-3e090a8bff8a",
   "metadata": {},
   "outputs": [
    {
     "data": {
      "text/plain": [
       "making india future ready. we are on mission of it. working dedicated day and night"
      ]
     },
     "execution_count": 12,
     "metadata": {},
     "output_type": "execute_result"
    }
   ],
   "source": [
    "doc1"
   ]
  },
  {
   "cell_type": "code",
   "execution_count": 13,
   "id": "3279e0d1-67c2-4369-abd5-8ec539fce5c9",
   "metadata": {},
   "outputs": [
    {
     "data": {
      "text/plain": [
       "<generator at 0x2afaacb24d0>"
      ]
     },
     "execution_count": 13,
     "metadata": {},
     "output_type": "execute_result"
    }
   ],
   "source": [
    "doc1.sents"
   ]
  },
  {
   "cell_type": "code",
   "execution_count": 14,
   "id": "ae03151e-eb43-4e16-8382-0c08077e94a1",
   "metadata": {},
   "outputs": [
    {
     "data": {
      "text/plain": [
       "[making india future ready.,\n",
       " we are on mission of it.,\n",
       " working dedicated day and night]"
      ]
     },
     "execution_count": 14,
     "metadata": {},
     "output_type": "execute_result"
    }
   ],
   "source": [
    "list(doc1.sents)"
   ]
  },
  {
   "cell_type": "code",
   "execution_count": 16,
   "id": "2c0e331c-7463-4675-9c90-b2b13db45a1f",
   "metadata": {},
   "outputs": [],
   "source": [
    "docc_sents=[i for i in doc1.sents]"
   ]
  },
  {
   "cell_type": "code",
   "execution_count": 18,
   "id": "c64e0bb5-732a-4611-8156-8cf7e15106db",
   "metadata": {},
   "outputs": [
    {
     "data": {
      "text/plain": [
       "spacy.tokens.span.Span"
      ]
     },
     "execution_count": 18,
     "metadata": {},
     "output_type": "execute_result"
    }
   ],
   "source": [
    "type(docc_sents[0])"
   ]
  },
  {
   "cell_type": "code",
   "execution_count": 29,
   "id": "186cf0c7-ebcf-4fce-af49-116dc92a8df6",
   "metadata": {},
   "outputs": [
    {
     "name": "stdout",
     "output_type": "stream",
     "text": [
      "making -> True\n",
      "india -> False\n",
      "future -> False\n",
      "ready -> False\n",
      ". -> False\n",
      "we -> True\n",
      "are -> False\n",
      "on -> False\n",
      "mission -> False\n",
      "of -> False\n",
      "it -> False\n",
      ". -> False\n",
      "working -> True\n",
      "dedicated -> False\n",
      "day -> False\n",
      "and -> False\n",
      "night -> False\n"
     ]
    }
   ],
   "source": [
    "for i in doc1:\n",
    "    print(i, \"->\",i.is_sent_start)"
   ]
  },
  {
   "cell_type": "code",
   "execution_count": 19,
   "id": "a37fc9f9-5918-4ced-987f-a0c5a2da0344",
   "metadata": {},
   "outputs": [
    {
     "data": {
      "text/plain": [
       "0"
      ]
     },
     "execution_count": 19,
     "metadata": {},
     "output_type": "execute_result"
    }
   ],
   "source": [
    "docc_sents[0].start"
   ]
  },
  {
   "cell_type": "code",
   "execution_count": 21,
   "id": "44ff4d13-6b67-4a43-8498-eb8b4b38f67a",
   "metadata": {},
   "outputs": [
    {
     "data": {
      "text/plain": [
       "making india future ready."
      ]
     },
     "execution_count": 21,
     "metadata": {},
     "output_type": "execute_result"
    }
   ],
   "source": [
    "docc_sents[0]"
   ]
  },
  {
   "cell_type": "code",
   "execution_count": 23,
   "id": "2fb035a3-6259-4338-b02e-d6dcb5a6dbf8",
   "metadata": {},
   "outputs": [],
   "source": [
    "text2='\"First we heave to create them; then they can be creator for our Nation\"-Vimal Daga'"
   ]
  },
  {
   "cell_type": "code",
   "execution_count": 24,
   "id": "2d6f3620-cbab-459d-a997-7520b545fefe",
   "metadata": {},
   "outputs": [],
   "source": [
    "doc2=mynlp(text2)"
   ]
  },
  {
   "cell_type": "code",
   "execution_count": 25,
   "id": "a6667b53-fe4b-4aaf-aadc-9e34adb7df83",
   "metadata": {},
   "outputs": [
    {
     "name": "stdout",
     "output_type": "stream",
     "text": [
      "\"First we heave to create them; then they can be creator for our Nation\"-Vimal Daga\n"
     ]
    }
   ],
   "source": [
    "for i in doc2.sents:\n",
    "    print(i)"
   ]
  },
  {
   "cell_type": "code",
   "execution_count": null,
   "id": "7e4fc2b6-1fc6-434f-af26-333d9d3f6fda",
   "metadata": {},
   "outputs": [],
   "source": []
  },
  {
   "cell_type": "code",
   "execution_count": 37,
   "id": "9d9192ba-be53-4c2f-8c63-b7a4cbc34f45",
   "metadata": {},
   "outputs": [],
   "source": [
    "from spacy.language import Language"
   ]
  },
  {
   "cell_type": "code",
   "execution_count": 51,
   "id": "e0c55255-34b6-4366-832e-f8d3f785f36b",
   "metadata": {},
   "outputs": [],
   "source": [
    "@Language.component(\"mycustomsent\")\n",
    "def mycustomsent(doc):\n",
    "    for token in doc[:-1]:\n",
    "        if token.text==\";\":\n",
    "            doc[token.i+1].is_sent_start=True\n",
    "    return doc"
   ]
  },
  {
   "cell_type": "code",
   "execution_count": 52,
   "id": "8e36c99b-9b59-4586-8542-bf0fa3c81f32",
   "metadata": {},
   "outputs": [],
   "source": [
    "mynlp1=spacy.load(\"en_core_web_sm\")"
   ]
  },
  {
   "cell_type": "code",
   "execution_count": 53,
   "id": "58b19c80-653c-4055-b72b-1e159e5eeb47",
   "metadata": {},
   "outputs": [
    {
     "data": {
      "text/plain": [
       "['tok2vec', 'tagger', 'parser', 'attribute_ruler', 'lemmatizer', 'ner']"
      ]
     },
     "execution_count": 53,
     "metadata": {},
     "output_type": "execute_result"
    }
   ],
   "source": [
    "mynlp1.pipe_names"
   ]
  },
  {
   "cell_type": "code",
   "execution_count": 54,
   "id": "c22dfa1e-deeb-473a-acf2-fe747e028ca0",
   "metadata": {},
   "outputs": [
    {
     "data": {
      "text/plain": [
       "<function __main__.mycustomsent(doc)>"
      ]
     },
     "execution_count": 54,
     "metadata": {},
     "output_type": "execute_result"
    }
   ],
   "source": [
    "mynlp1.add_pipe(\"mycustomsent\",before=\"parser\")"
   ]
  },
  {
   "cell_type": "code",
   "execution_count": 55,
   "id": "12af35c5-356a-43ac-b8e1-1e972e3c9088",
   "metadata": {},
   "outputs": [
    {
     "data": {
      "text/plain": [
       "['tok2vec',\n",
       " 'tagger',\n",
       " 'mycustomsent',\n",
       " 'parser',\n",
       " 'attribute_ruler',\n",
       " 'lemmatizer',\n",
       " 'ner']"
      ]
     },
     "execution_count": 55,
     "metadata": {},
     "output_type": "execute_result"
    }
   ],
   "source": [
    "mynlp1.pipe_names"
   ]
  },
  {
   "cell_type": "code",
   "execution_count": 56,
   "id": "44028d0c-ae14-4831-b023-50ee6271bde8",
   "metadata": {},
   "outputs": [],
   "source": [
    "doc3=mynlp1(text2)"
   ]
  },
  {
   "cell_type": "code",
   "execution_count": 58,
   "id": "6ed2a833-3501-4dff-8d72-27e43aa432ee",
   "metadata": {},
   "outputs": [
    {
     "name": "stdout",
     "output_type": "stream",
     "text": [
      "\"First we heave to create them;\n",
      "then they can be creator for our Nation\"-Vimal Daga\n"
     ]
    }
   ],
   "source": [
    "for i in doc3.sents:\n",
    "    print(i)"
   ]
  },
  {
   "cell_type": "code",
   "execution_count": null,
   "id": "a04dbd03-10af-4807-9f43-f68af6195ab8",
   "metadata": {},
   "outputs": [],
   "source": []
  }
 ],
 "metadata": {
  "kernelspec": {
   "display_name": "Python 3 (ipykernel)",
   "language": "python",
   "name": "python3"
  },
  "language_info": {
   "codemirror_mode": {
    "name": "ipython",
    "version": 3
   },
   "file_extension": ".py",
   "mimetype": "text/x-python",
   "name": "python",
   "nbconvert_exporter": "python",
   "pygments_lexer": "ipython3",
   "version": "3.11.7"
  }
 },
 "nbformat": 4,
 "nbformat_minor": 5
}
